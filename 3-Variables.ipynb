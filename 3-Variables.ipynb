{
 "cells": [
  {
   "cell_type": "markdown",
   "metadata": {},
   "source": [
    "# Variables\n",
    "---"
   ]
  },
  {
   "cell_type": "markdown",
   "metadata": {},
   "source": [
    "We **assign** values to variables and later on, **refer** to the variable names to use the values.\n",
    "\n",
    "The syntax used is:\n",
    "\n",
    "    variable_name = value"
   ]
  },
  {
   "cell_type": "code",
   "execution_count": 1,
   "metadata": {},
   "outputs": [
    {
     "name": "stdout",
     "output_type": "stream",
     "text": [
      "3\n",
      "5.5\n"
     ]
    }
   ],
   "source": [
    "a = 3 # Assign the value 3 to the variable named a\n",
    "b= 5.5 # Assign the value 5.5 to another variable named b\n",
    "print(a)\n",
    "print(b)"
   ]
  },
  {
   "cell_type": "code",
   "execution_count": 2,
   "metadata": {},
   "outputs": [
    {
     "name": "stdout",
     "output_type": "stream",
     "text": [
      "Supakrit\n",
      "Chuchatwannakul\n"
     ]
    }
   ],
   "source": [
    "firstname = \"Supakrit\"\n",
    "lastname = \"Chuchatwannakul\"\n",
    "print(firstname)\n",
    "print(lastname)"
   ]
  },
  {
   "cell_type": "code",
   "execution_count": 3,
   "metadata": {},
   "outputs": [
    {
     "name": "stdout",
     "output_type": "stream",
     "text": [
      "True\n",
      "False\n"
     ]
    }
   ],
   "source": [
    "p = True\n",
    "q = False\n",
    "print(p)\n",
    "print(q)"
   ]
  },
  {
   "cell_type": "markdown",
   "metadata": {},
   "source": [
    "Multiple **variables** can be assigned with a *similar* value in a *single* line:"
   ]
  },
  {
   "cell_type": "code",
   "execution_count": 4,
   "metadata": {},
   "outputs": [
    {
     "name": "stdout",
     "output_type": "stream",
     "text": [
      "Hello\n",
      "Hello\n"
     ]
    }
   ],
   "source": [
    "a = b = \"Hello\"\n",
    "print(a)\n",
    "print(b)"
   ]
  },
  {
   "cell_type": "markdown",
   "metadata": {},
   "source": [
    "Many **values** can also be assigned to **multiple** variables in a *single* line:"
   ]
  },
  {
   "cell_type": "code",
   "execution_count": 5,
   "metadata": {},
   "outputs": [
    {
     "name": "stdout",
     "output_type": "stream",
     "text": [
      "Hello\n",
      "45\n",
      "True\n"
     ]
    }
   ],
   "source": [
    "a, b, c = \"Hello\", 45, True\n",
    "print(a)\n",
    "print(b)\n",
    "print(c)"
   ]
  },
  {
   "cell_type": "markdown",
   "metadata": {},
   "source": [
    "A variable can be re-assigned with a new value:"
   ]
  },
  {
   "cell_type": "code",
   "execution_count": 6,
   "metadata": {},
   "outputs": [
    {
     "name": "stdout",
     "output_type": "stream",
     "text": [
      "25\n",
      "30\n"
     ]
    }
   ],
   "source": [
    "a = 25\n",
    "print(a)\n",
    "a = 30\n",
    "print(a)"
   ]
  },
  {
   "cell_type": "markdown",
   "metadata": {},
   "source": [
    "The **data type** of a variable is the data type of the (*latest*) value assigned to it."
   ]
  },
  {
   "cell_type": "code",
   "execution_count": 7,
   "metadata": {},
   "outputs": [
    {
     "name": "stdout",
     "output_type": "stream",
     "text": [
      "50\n",
      "<class 'int'>\n",
      "50.0\n",
      "<class 'float'>\n"
     ]
    }
   ],
   "source": [
    "a = 50\n",
    "print(a)\n",
    "print(type(a))\n",
    "b = 50.0\n",
    "a = b\n",
    "print(a)\n",
    "print(type(a))\n"
   ]
  },
  {
   "cell_type": "markdown",
   "metadata": {},
   "source": [
    "Here are some examples of **valid varaible names**:"
   ]
  },
  {
   "cell_type": "code",
   "execution_count": 8,
   "metadata": {},
   "outputs": [],
   "source": [
    "average = 20.0\n",
    "p5 = 50\n",
    "this_is_ok = \"OK\"\n",
    "thisIsOk = \"OK\"\n",
    "_height = 180\n",
    "ความสูง = 175"
   ]
  },
  {
   "cell_type": "markdown",
   "metadata": {},
   "source": [
    "However, the following are **invalid** variable names:"
   ]
  },
  {
   "cell_type": "code",
   "execution_count": 9,
   "metadata": {},
   "outputs": [],
   "source": [
    "# average* = 20.0   -> Cannot contain symbol\n",
    "# 5p = 50           -> Cannot start with a digit\n",
    "# this-is-ok = \"OK\" -> Cannot contain symbol\n",
    "# for = \"You\"       -> Cannot use reserved word (for)"
   ]
  }
 ],
 "metadata": {
  "kernelspec": {
   "display_name": "Python 3.10.4 64-bit",
   "language": "python",
   "name": "python3"
  },
  "language_info": {
   "codemirror_mode": {
    "name": "ipython",
    "version": 3
   },
   "file_extension": ".py",
   "mimetype": "text/x-python",
   "name": "python",
   "nbconvert_exporter": "python",
   "pygments_lexer": "ipython3",
   "version": "3.10.4"
  },
  "orig_nbformat": 4,
  "vscode": {
   "interpreter": {
    "hash": "69afb16850fb080b0d2f0cee190e8848b3ff785e95ea7eabe4fe94a2423f9ba5"
   }
  }
 },
 "nbformat": 4,
 "nbformat_minor": 2
}
