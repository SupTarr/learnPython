{
 "cells": [
  {
   "cell_type": "markdown",
   "metadata": {},
   "source": [
    "# Dictionary\n",
    "\n",
    "- Dictionaries are **mapping** data type in Python, storing data in a collection of **key:value** pairs.\n",
    "\n",
    "## Creating Dictionary\n",
    "\n",
    "- Dictionaries can be created using curly brackets (braces) `{ }`.\n",
    "- Each item is separated by `,`\n",
    "- An item has a **key** and a corresponding **value** (key:value pair).\n",
    "\n",
    "    d = {\n",
    "        <key1>: <value1>,\n",
    "        <key2>: <value2>,\n",
    "            .\n",
    "            .\n",
    "            .\n",
    "        <key>: <value>\n",
    "    }"
   ]
  },
  {
   "cell_type": "code",
   "execution_count": 1,
   "metadata": {},
   "outputs": [],
   "source": [
    "# Create a dictionary using curly brackets.\n",
    "\n",
    "dbook_info = { \n",
    "    'title': 'Python Basics',\n",
    "    'price': 39.99,\n",
    "    'year': 2021,\n",
    "    'authors': ('D.Amos', 'D.Bader', 'J.Jablonski', 'F.Heisler')\n",
    "}"
   ]
  },
  {
   "cell_type": "markdown",
   "metadata": {},
   "source": [
    "- Dictionaries can be created using `dict()` function.\n",
    "\n",
    "    d = dict([\n",
    "        (<key1>, <value1>),\n",
    "        (<key2>, <value2>),\n",
    "            .\n",
    "            .\n",
    "            .\n",
    "        (<key>, <value>),\n",
    "    ])"
   ]
  },
  {
   "cell_type": "code",
   "execution_count": 2,
   "metadata": {},
   "outputs": [
    {
     "name": "stdout",
     "output_type": "stream",
     "text": [
      "{'name': 'Somsri Jaidee', 'tel': '02-222-1222'}\n",
      "<class 'dict'>\n"
     ]
    }
   ],
   "source": [
    "c = [('name', 'Somsri Jaidee'), ('tel', '02-222-1222')]\n",
    "customer = dict(c)\n",
    "print(customer)\n",
    "print(type(customer))"
   ]
  },
  {
   "cell_type": "code",
   "execution_count": 3,
   "metadata": {},
   "outputs": [
    {
     "name": "stdout",
     "output_type": "stream",
     "text": [
      "{}\n",
      "<class 'dict'>\n"
     ]
    }
   ],
   "source": [
    "# Creating an empty Dict\n",
    "\n",
    "d = {}\n",
    "print(d)\n",
    "print(type(d))"
   ]
  },
  {
   "cell_type": "markdown",
   "metadata": {},
   "source": [
    "- *Keys* must be **immutable** type, e.g., int, float, string, tuple, and **unique**.\n",
    "- *Values* can be any data type (**Heterogeous**) and allowed to be **duplicated**."
   ]
  },
  {
   "cell_type": "code",
   "execution_count": 4,
   "metadata": {},
   "outputs": [
    {
     "name": "stdout",
     "output_type": "stream",
     "text": [
      "{1: 'a', 2: 'b'}\n"
     ]
    }
   ],
   "source": [
    "# Key can be 'int'\n",
    "\n",
    "d = {1: 'a', 2: 'b'}\n",
    "print(d)"
   ]
  },
  {
   "cell_type": "code",
   "execution_count": 5,
   "metadata": {},
   "outputs": [
    {
     "name": "stdout",
     "output_type": "stream",
     "text": [
      "{1.0: 'a', 2.0: 'b'}\n"
     ]
    }
   ],
   "source": [
    "# Key can be 'float'\n",
    "\n",
    "d = {1.0: 'a', 2.0: 'b'}\n",
    "print(d)"
   ]
  },
  {
   "cell_type": "code",
   "execution_count": 6,
   "metadata": {},
   "outputs": [
    {
     "name": "stdout",
     "output_type": "stream",
     "text": [
      "{(1, 1): 10, (1, 2): 20}\n"
     ]
    }
   ],
   "source": [
    "# Key can be 'tuple'\n",
    "\n",
    "d = {(1, 1): 10, (1, 2): 20}\n",
    "print(d)"
   ]
  },
  {
   "cell_type": "code",
   "execution_count": 7,
   "metadata": {},
   "outputs": [
    {
     "name": "stdout",
     "output_type": "stream",
     "text": [
      "{1: [1, 2, 3], 'name': 'Sara'}\n"
     ]
    }
   ],
   "source": [
    "# Key can be mixed\n",
    "\n",
    "d = {1: [1, 2, 3], 'name': 'Sara'}\n",
    "print(d)"
   ]
  },
  {
   "cell_type": "code",
   "execution_count": 8,
   "metadata": {},
   "outputs": [
    {
     "name": "stderr",
     "output_type": "stream",
     "text": [
      "Traceback (most recent call last):\n",
      "  File \"<stdin>\", line 3, in <module>\n",
      "TypeError: unhashable type: 'list'\n"
     ]
    }
   ],
   "source": [
    "%%script python --no-raise-error\n",
    "# Mutable object cannot be \"key\" in dictionary\n",
    "\n",
    "d = {[1, 1]: 10, [1, 2]: 20}\n",
    "print(d)"
   ]
  },
  {
   "cell_type": "markdown",
   "metadata": {},
   "source": [
    "## Accessing Dictionary\n",
    "\n",
    "1. An item's value in Dictionary can be referred to using the **key** name in a square bracket `[ ]`.\n",
    "2. Using `get()` method."
   ]
  },
  {
   "cell_type": "code",
   "execution_count": 9,
   "metadata": {},
   "outputs": [
    {
     "name": "stdout",
     "output_type": "stream",
     "text": [
      "{'title': 'Python Basics', 'price': 39.99, 'year': 2021, 'authors': ('D.Amos', 'D.Bader', 'J.Jablonski', 'F.Heisler')}\n",
      "Python Basics\n",
      "('D.Amos', 'D.Bader', 'J.Jablonski', 'F.Heisler')\n"
     ]
    }
   ],
   "source": [
    "print(dbook_info)\n",
    "print(dbook_info['title'])\n",
    "print(dbook_info['authors'])"
   ]
  },
  {
   "cell_type": "code",
   "execution_count": 10,
   "metadata": {},
   "outputs": [
    {
     "data": {
      "text/plain": [
       "'Python Basics'"
      ]
     },
     "execution_count": 10,
     "metadata": {},
     "output_type": "execute_result"
    }
   ],
   "source": [
    "# Using get() method\n",
    "\n",
    "dbook_info.get('title')"
   ]
  },
  {
   "cell_type": "markdown",
   "metadata": {},
   "source": [
    "- In case of `[ ]`, `KeyError` is raised if the key is not found in the dictionary; meanwhile, the `get()` method will return `None`."
   ]
  },
  {
   "cell_type": "code",
   "execution_count": 11,
   "metadata": {},
   "outputs": [
    {
     "name": "stderr",
     "output_type": "stream",
     "text": [
      "Traceback (most recent call last):\n",
      "  File \"<stdin>\", line 2, in <module>\n",
      "NameError: name 'dbook_info' is not defined\n"
     ]
    }
   ],
   "source": [
    "%%script python --no-raise-error\n",
    "\n",
    "print(dbook_info['name'])"
   ]
  },
  {
   "cell_type": "code",
   "execution_count": 12,
   "metadata": {},
   "outputs": [
    {
     "name": "stdout",
     "output_type": "stream",
     "text": [
      "None\n"
     ]
    }
   ],
   "source": [
    "# Using get() method\n",
    "\n",
    "print(dbook_info.get('name'))"
   ]
  },
  {
   "cell_type": "markdown",
   "metadata": {},
   "source": [
    "## Adding & Updating Dictionary\n",
    "\n",
    "1. Adding one value at a time: `Dict[<Key>] = <Value>`.\n",
    "2. Updating can be done using the built-in `update()` method.\n",
    "\n",
    "**Note** that if the key value already exists, the value gets **updated**; otherwise, a new `<Key>` with the `<Value>` is **added** to the Dictionary."
   ]
  },
  {
   "cell_type": "code",
   "execution_count": 13,
   "metadata": {},
   "outputs": [
    {
     "name": "stdout",
     "output_type": "stream",
     "text": [
      "{'name': 'Somsri Jaidee', 'tel': '02-222-1222'}\n",
      "{'name': 'Somsri Jaidee', 'tel': '02-218-9999'}\n",
      "{'name': 'Somsri Jaidee', 'tel': '02-218-9999', 'DOB': '01-07-1990'}\n"
     ]
    }
   ],
   "source": [
    "print(customer)\n",
    "customer['tel'] = '02-218-9999'\n",
    "print(customer)\n",
    "\n",
    "customer['DOB'] = '01-07-1990'\n",
    "print(customer)"
   ]
  },
  {
   "cell_type": "code",
   "execution_count": 14,
   "metadata": {},
   "outputs": [
    {
     "name": "stdout",
     "output_type": "stream",
     "text": [
      "{'name': 'Somsri Jaidee', 'tel': '02-218-9999', 'DOB': '01-07-1990', 'address': 'Bangkok'}\n"
     ]
    }
   ],
   "source": [
    "# update() method\n",
    "# Parameter: a dictionary, or an iterable object with key: value pairs.\n",
    "\n",
    "customer.update({'address': 'Bangkok'})\n",
    "print(customer)"
   ]
  },
  {
   "cell_type": "code",
   "execution_count": 15,
   "metadata": {},
   "outputs": [
    {
     "name": "stdout",
     "output_type": "stream",
     "text": [
      "{'name': 'Somsri Jaidee', 'tel': '02-218-9999', 'DOB': '01-07-1990', 'address': 'Phuket'}\n"
     ]
    }
   ],
   "source": [
    "customer.update({'address': 'Phuket'})\n",
    "print(customer)"
   ]
  },
  {
   "cell_type": "markdown",
   "metadata": {},
   "source": [
    "## Deleting Dictionary\n",
    "\n",
    "1. `del` keyword deletes the **item** with the specified **key** name. <br/> `del Dict` will delete the entire dictionary.\n",
    "2. `pop()` method deletes the **item** with the specified **key** name, and return the **value**.\n",
    "3. `popitem()` method deletes the **last_item** (key, value) pair from the dictionary.\n",
    "4. `clear()` method deletes all the items from the dictionary.\n",
    "\n",
    "\n",
    "\n",
    "\n"
   ]
  },
  {
   "cell_type": "code",
   "execution_count": 16,
   "metadata": {},
   "outputs": [
    {
     "name": "stdout",
     "output_type": "stream",
     "text": [
      "{'name': 'Somsri Jaidee', 'tel': '02-218-9999', 'DOB': '01-07-1990', 'address': 'Phuket'}\n",
      "{'name': 'Somsri Jaidee', 'tel': '02-218-9999', 'DOB': '01-07-1990'}\n"
     ]
    }
   ],
   "source": [
    "# Using del keyword to delete the item with the specified key name.\n",
    "\n",
    "print(customer)\n",
    "del customer['address']\n",
    "print(customer)"
   ]
  },
  {
   "cell_type": "code",
   "execution_count": 17,
   "metadata": {},
   "outputs": [
    {
     "name": "stderr",
     "output_type": "stream",
     "text": [
      "Traceback (most recent call last):\n",
      "  File \"<stdin>\", line 3, in <module>\n",
      "NameError: name 'customer' is not defined\n"
     ]
    }
   ],
   "source": [
    "%%script python --no-raise-error\n",
    "# Using del to delete the whole Dict\n",
    "\n",
    "del customer\n",
    "print(customer)"
   ]
  },
  {
   "cell_type": "markdown",
   "metadata": {},
   "source": [
    "- `pop()` method deletes the **item** with the specified **key** name, and return the **value**."
   ]
  },
  {
   "cell_type": "code",
   "execution_count": 18,
   "metadata": {},
   "outputs": [
    {
     "name": "stdout",
     "output_type": "stream",
     "text": [
      "{'title': 'Python Basics', 'price': 39.99, 'year': 2021, 'authors': ('D.Amos', 'D.Bader', 'J.Jablonski', 'F.Heisler')}\n",
      "39.99\n",
      "{'title': 'Python Basics', 'year': 2021, 'authors': ('D.Amos', 'D.Bader', 'J.Jablonski', 'F.Heisler')}\n"
     ]
    }
   ],
   "source": [
    "print(dbook_info)\n",
    "p = dbook_info.pop('price')\n",
    "print(p)\n",
    "print(dbook_info)"
   ]
  },
  {
   "cell_type": "code",
   "execution_count": 19,
   "metadata": {},
   "outputs": [
    {
     "name": "stderr",
     "output_type": "stream",
     "text": [
      "Traceback (most recent call last):\n",
      "  File \"<stdin>\", line 3, in <module>\n",
      "NameError: name 'dbook_info' is not defined\n"
     ]
    }
   ],
   "source": [
    "%%script python --no-raise-error\n",
    "# Error if no key exist\n",
    "\n",
    "p = dbook_info.pop('price')"
   ]
  },
  {
   "cell_type": "markdown",
   "metadata": {},
   "source": [
    "- `popitem()` method deletes the **last item** (key, value) pair from the dictionary. (LIFO)"
   ]
  },
  {
   "cell_type": "code",
   "execution_count": 20,
   "metadata": {},
   "outputs": [
    {
     "name": "stdout",
     "output_type": "stream",
     "text": [
      "('authors', ('D.Amos', 'D.Bader', 'J.Jablonski', 'F.Heisler'))\n"
     ]
    }
   ],
   "source": [
    "i = dbook_info.popitem()\n",
    "print(i)"
   ]
  },
  {
   "cell_type": "markdown",
   "metadata": {},
   "source": [
    "- `clear()` method deletes **all items** from the dictionary."
   ]
  },
  {
   "cell_type": "code",
   "execution_count": 21,
   "metadata": {},
   "outputs": [
    {
     "name": "stdout",
     "output_type": "stream",
     "text": [
      "{}\n"
     ]
    }
   ],
   "source": [
    "dbook_info.clear()\n",
    "print(dbook_info)"
   ]
  },
  {
   "cell_type": "markdown",
   "metadata": {},
   "source": [
    "## Iterating through Dictionary\n",
    "\n",
    "- We can use `for` loop to iterate through dictionaries."
   ]
  },
  {
   "cell_type": "code",
   "execution_count": 22,
   "metadata": {},
   "outputs": [
    {
     "name": "stdout",
     "output_type": "stream",
     "text": [
      "{'soccer': 11, 'rugby': 15, 'volleyball': 6, 'basketball': 5, 'polo': 4, 'softball': 9}\n"
     ]
    }
   ],
   "source": [
    "sport = dict(soccer = 11, rugby = 15, volleyball = 6, basketball = 5, polo = 4, softball = 9)\n",
    "print(sport)"
   ]
  },
  {
   "cell_type": "code",
   "execution_count": 23,
   "metadata": {},
   "outputs": [
    {
     "name": "stdout",
     "output_type": "stream",
     "text": [
      "soccer\n",
      "rugby\n",
      "volleyball\n",
      "basketball\n",
      "polo\n",
      "softball\n"
     ]
    }
   ],
   "source": [
    "# Loop by keys\n",
    "\n",
    "for i in sport.keys():\n",
    "    print(i)"
   ]
  },
  {
   "cell_type": "code",
   "execution_count": 24,
   "metadata": {},
   "outputs": [
    {
     "name": "stdout",
     "output_type": "stream",
     "text": [
      "soccer\n",
      "rugby\n",
      "volleyball\n",
      "basketball\n",
      "polo\n",
      "softball\n"
     ]
    }
   ],
   "source": [
    "for i in sport:\n",
    "    print(i)"
   ]
  },
  {
   "cell_type": "code",
   "execution_count": 25,
   "metadata": {},
   "outputs": [
    {
     "name": "stdout",
     "output_type": "stream",
     "text": [
      "11\n",
      "15\n",
      "6\n",
      "5\n",
      "4\n",
      "9\n"
     ]
    }
   ],
   "source": [
    "# Loop by values\n",
    "\n",
    "for i in sport.values():\n",
    "    print(i)"
   ]
  },
  {
   "cell_type": "code",
   "execution_count": 26,
   "metadata": {},
   "outputs": [
    {
     "name": "stdout",
     "output_type": "stream",
     "text": [
      "11\n",
      "15\n",
      "6\n",
      "5\n",
      "4\n",
      "9\n"
     ]
    }
   ],
   "source": [
    "for i in sport:\n",
    "    print(sport[i])"
   ]
  },
  {
   "cell_type": "code",
   "execution_count": 27,
   "metadata": {},
   "outputs": [
    {
     "name": "stdout",
     "output_type": "stream",
     "text": [
      "('soccer', 11)\n",
      "('rugby', 15)\n",
      "('volleyball', 6)\n",
      "('basketball', 5)\n",
      "('polo', 4)\n",
      "('softball', 9)\n"
     ]
    }
   ],
   "source": [
    "# Loop by item (key-value)\n",
    "\n",
    "for i in sport.items():\n",
    "    print(i)"
   ]
  },
  {
   "cell_type": "code",
   "execution_count": 28,
   "metadata": {},
   "outputs": [
    {
     "name": "stdout",
     "output_type": "stream",
     "text": [
      "soccer 11\n",
      "rugby 15\n",
      "volleyball 6\n",
      "basketball 5\n",
      "polo 4\n",
      "softball 9\n"
     ]
    }
   ],
   "source": [
    "for s, p in sport.items():\n",
    "    print(s, p)"
   ]
  },
  {
   "cell_type": "markdown",
   "metadata": {},
   "source": [
    "## Cloning or copying Dictionary\n",
    "\n",
    "1. `copy()` method copies a dictionary.\n",
    "2. `dict()` function can be used to copying a dictionary."
   ]
  },
  {
   "cell_type": "code",
   "execution_count": 29,
   "metadata": {},
   "outputs": [
    {
     "name": "stdout",
     "output_type": "stream",
     "text": [
      "{'soccer': 11, 'rugby': 15, 'volleyball': 6, 'basketball': 5, 'polo': 4, 'softball': 9}\n"
     ]
    }
   ],
   "source": [
    "a = sport.copy()\n",
    "print(a)"
   ]
  },
  {
   "cell_type": "code",
   "execution_count": 30,
   "metadata": {},
   "outputs": [
    {
     "name": "stdout",
     "output_type": "stream",
     "text": [
      "('softball', 9)\n",
      "{'soccer': 11, 'rugby': 15, 'volleyball': 6, 'basketball': 5, 'polo': 4}\n"
     ]
    }
   ],
   "source": [
    "print(a.popitem())\n",
    "print(a)"
   ]
  },
  {
   "cell_type": "code",
   "execution_count": 31,
   "metadata": {},
   "outputs": [
    {
     "name": "stdout",
     "output_type": "stream",
     "text": [
      "{'soccer': 11, 'rugby': 15, 'volleyball': 6, 'basketball': 5, 'polo': 4, 'softball': 9}\n"
     ]
    }
   ],
   "source": [
    "b = dict(sport)\n",
    "print(b)"
   ]
  },
  {
   "cell_type": "code",
   "execution_count": 32,
   "metadata": {},
   "outputs": [
    {
     "name": "stdout",
     "output_type": "stream",
     "text": [
      "{'rugby': 15, 'volleyball': 6, 'basketball': 5, 'polo': 4, 'softball': 9}\n"
     ]
    }
   ],
   "source": [
    "del b['soccer']\n",
    "print(b)"
   ]
  },
  {
   "cell_type": "markdown",
   "metadata": {},
   "source": [
    "## Nested Dictionary"
   ]
  },
  {
   "cell_type": "code",
   "execution_count": 33,
   "metadata": {},
   "outputs": [
    {
     "name": "stdout",
     "output_type": "stream",
     "text": [
      "{1: {'name': 'Poom', 'age': 10}, 2: {'name': 'Pao', 'age': 9}, 3: {'name': 'Put', 'age': 7}}\n"
     ]
    }
   ],
   "source": [
    "kids = {\n",
    "    1 : {'name': 'Poom', 'age' : 10},\n",
    "    2 : {'name': 'Pao', 'age' : 9},\n",
    "    3 : {'name': 'Put', 'age' : 7},\n",
    "}\n",
    "print(kids)"
   ]
  }
 ],
 "metadata": {
  "kernelspec": {
   "display_name": "Python 3 (ipykernel)",
   "language": "python",
   "name": "python3"
  },
  "language_info": {
   "codemirror_mode": {
    "name": "ipython",
    "version": 3
   },
   "file_extension": ".py",
   "mimetype": "text/x-python",
   "name": "python",
   "nbconvert_exporter": "python",
   "pygments_lexer": "ipython3",
   "version": "3.10.4"
  }
 },
 "nbformat": 4,
 "nbformat_minor": 2
}
