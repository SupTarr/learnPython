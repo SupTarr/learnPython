{
 "cells": [
  {
   "cell_type": "markdown",
   "metadata": {},
   "source": [
    "# Files Input/Output"
   ]
  },
  {
   "cell_type": "markdown",
   "metadata": {},
   "source": [
    "## Access Modes\n",
    "- `r`  : read only (default)\n",
    "- `w`  : write only\n",
    "- `r+` : read & write\n",
    "- `w+` : write & read\n",
    "- `a`  : append\n",
    "- `t`  : text mode (default)\n",
    "- `b`  : binary mode"
   ]
  },
  {
   "cell_type": "markdown",
   "metadata": {},
   "source": [
    "## Read & write files\n",
    "\n",
    "### Read a file\n",
    "\n",
    "- `read(<size>)` : reads size characters or bytes from the file. If no argument, it will read entire file.\n",
    "- `readline()` : reads a single line from the file, with `\\n` at the end (except the last line)\n",
    "- `readlines()` : reads all lines and return a list of each line.\n",
    "- Loop to read each line :\n",
    "\n",
    "    `for line in file_object:`\n",
    "        ..."
   ]
  },
  {
   "cell_type": "code",
   "execution_count": 1,
   "metadata": {},
   "outputs": [
    {
     "name": "stdout",
     "output_type": "stream",
     "text": [
      "<_io.TextIOWrapper name='sample.txt' mode='r' encoding='cp65001'>\n"
     ]
    }
   ],
   "source": [
    "f = open('sample.txt')\n",
    "print(f)"
   ]
  },
  {
   "cell_type": "code",
   "execution_count": 2,
   "metadata": {},
   "outputs": [
    {
     "name": "stdout",
     "output_type": "stream",
     "text": [
      "This is a text file.\n",
      "My name is Supakrit Chuchatwannakul.\n",
      "I am a software developer.\n"
     ]
    }
   ],
   "source": [
    "data = f.read()\n",
    "print(data)"
   ]
  },
  {
   "cell_type": "code",
   "execution_count": 3,
   "metadata": {},
   "outputs": [
    {
     "name": "stdout",
     "output_type": "stream",
     "text": [
      "This \n"
     ]
    }
   ],
   "source": [
    "f = open('sample.txt')\n",
    "data = f.read(5)\n",
    "print(data)"
   ]
  },
  {
   "cell_type": "code",
   "execution_count": 4,
   "metadata": {},
   "outputs": [
    {
     "name": "stdout",
     "output_type": "stream",
     "text": [
      "This is a text file.\n",
      "\n"
     ]
    }
   ],
   "source": [
    "f = open('sample.txt')\n",
    "# readline: read until '\\n'\n",
    "data = f.readline()\n",
    "print(data)"
   ]
  },
  {
   "cell_type": "code",
   "execution_count": 5,
   "metadata": {},
   "outputs": [
    {
     "name": "stdout",
     "output_type": "stream",
     "text": [
      "['This is a text file.\\n', 'My name is Supakrit Chuchatwannakul.\\n', 'I am a software developer.']\n"
     ]
    }
   ],
   "source": [
    "f = open('sample.txt')\n",
    "data = f.readlines()\n",
    "print(data)"
   ]
  },
  {
   "cell_type": "code",
   "execution_count": 6,
   "metadata": {},
   "outputs": [
    {
     "name": "stdout",
     "output_type": "stream",
     "text": [
      "This is a text file.\n",
      "\n",
      "My name is Supakrit Chuchatwannakul.\n",
      "\n",
      "I am a software developer.\n"
     ]
    }
   ],
   "source": [
    "f = open('sample.txt')\n",
    "for ln in f:\n",
    "    print(ln)"
   ]
  },
  {
   "cell_type": "code",
   "execution_count": 7,
   "metadata": {},
   "outputs": [
    {
     "name": "stdout",
     "output_type": "stream",
     "text": [
      "This is a text file.\n",
      "My name is Supakrit Chuchatwannakul.\n",
      "I am a software developer."
     ]
    }
   ],
   "source": [
    "f = open('sample.txt')\n",
    "for ln in f:\n",
    "    print(ln, end = '')"
   ]
  },
  {
   "cell_type": "markdown",
   "metadata": {},
   "source": [
    "### Write a file\n",
    "\n",
    "- `write(<string>)` : write the string to the file and return a number of written characters.\n",
    "- `writelines()` : write a list of lines to the file."
   ]
  },
  {
   "cell_type": "code",
   "execution_count": 8,
   "metadata": {},
   "outputs": [],
   "source": [
    "f = open('sample.txt', 'a')\n",
    "f.write('\\nI love Python the most.')\n",
    "f.close()"
   ]
  },
  {
   "cell_type": "code",
   "execution_count": 9,
   "metadata": {},
   "outputs": [
    {
     "name": "stdout",
     "output_type": "stream",
     "text": [
      "This is a text file.\n",
      "My name is Supakrit Chuchatwannakul.\n",
      "I am a software developer.\n",
      "I love Python the most.\n",
      "--------------------\n",
      "This is a text file.\n",
      "My name is Supakrit Chuchatwannakul.\n",
      "I am a software developer.\n",
      "I love Python the most.\n",
      "I love JavaScript the second.\n"
     ]
    }
   ],
   "source": [
    "f = open('sample.txt', 'r+')\n",
    "print(f.read())\n",
    "f.write('\\nI love JavaScript the second.')\n",
    "f.seek(0)\n",
    "print('-' * 20)\n",
    "print(f.read())\n",
    "f.close()"
   ]
  },
  {
   "cell_type": "code",
   "execution_count": 10,
   "metadata": {},
   "outputs": [
    {
     "name": "stdout",
     "output_type": "stream",
     "text": [
      "This is a text file.\n",
      "My name is Supakrit Chuchatwannakul.\n",
      "I am a software developer.\n",
      "I love Python the most.\n",
      "I love JavaScript the second.\n",
      "This is the first line.\n",
      "This is the second line.\n",
      "\n"
     ]
    }
   ],
   "source": [
    "l = ['\\nThis is the first line.\\n', 'This is the second line.\\n']\n",
    "f = open('sample.txt', 'a+')\n",
    "f.writelines(l)\n",
    "f.seek(0)\n",
    "print(f.read())\n",
    "f.close()"
   ]
  },
  {
   "cell_type": "markdown",
   "metadata": {},
   "source": [
    "## Close files\n",
    "\n",
    "- `close()`: close the file object."
   ]
  },
  {
   "cell_type": "markdown",
   "metadata": {},
   "source": [
    "## Open files with `with` keyword"
   ]
  },
  {
   "cell_type": "code",
   "execution_count": 11,
   "metadata": {},
   "outputs": [],
   "source": [
    "with open('sample.txt') as f:\n",
    "    pass"
   ]
  },
  {
   "cell_type": "code",
   "execution_count": 12,
   "metadata": {},
   "outputs": [],
   "source": [
    "with open('test.txt', mode = 'w') as f:\n",
    "    f.write('Hello world another file.')"
   ]
  }
 ],
 "metadata": {
  "kernelspec": {
   "display_name": "Python 3 (ipykernel)",
   "language": "python",
   "name": "python3"
  },
  "language_info": {
   "codemirror_mode": {
    "name": "ipython",
    "version": 3
   },
   "file_extension": ".py",
   "mimetype": "text/x-python",
   "name": "python",
   "nbconvert_exporter": "python",
   "pygments_lexer": "ipython3",
   "version": "3.10.4"
  }
 },
 "nbformat": 4,
 "nbformat_minor": 2
}
