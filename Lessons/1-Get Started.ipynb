{
 "cells": [
  {
   "cell_type": "markdown",
   "metadata": {},
   "source": [
    "# Python programming \n",
    "---\n"
   ]
  },
  {
   "cell_type": "code",
   "execution_count": 1,
   "metadata": {},
   "outputs": [
    {
     "name": "stdout",
     "output_type": "stream",
     "text": [
      "Hello world!\n",
      "This is the first line of code I've ever written!\n"
     ]
    }
   ],
   "source": [
    "print(\"Hello world!\")\n",
    "print(\"This is the first line of code I've ever written!\")"
   ]
  },
  {
   "cell_type": "markdown",
   "metadata": {},
   "source": [
    "From the output, we can see that each line was executed in *order* from **top** to **bottom**."
   ]
  },
  {
   "cell_type": "markdown",
   "metadata": {},
   "source": [
    "Python is **Case-sensitive**. This means that `print` is not the same as `Print` or `PRINT`."
   ]
  },
  {
   "cell_type": "code",
   "execution_count": 2,
   "metadata": {},
   "outputs": [
    {
     "name": "stdout",
     "output_type": "stream",
     "text": [
      "Hello world!\r\n"
     ]
    },
    {
     "name": "stderr",
     "output_type": "stream",
     "text": [
      "Traceback (most recent call last):\n",
      "  File \"<stdin>\", line 3, in <module>\n",
      "NameError: name 'Print' is not defined. Did you mean: 'print'?\n"
     ]
    }
   ],
   "source": [
    "%%script python --no-raise-error\n",
    "\n",
    "print(\"Hello world!\")\n",
    "Print(\"This is the first line of code I've ever written!\")\n",
    "print(\"I am so excited to learn Python!\")\n",
    "# NameError: name 'Print' is not defined"
   ]
  },
  {
   "cell_type": "markdown",
   "metadata": {},
   "source": [
    "The code above produces **a bug**. When there is a bug, programmers need to *read* the error messages, try to *understand* them, and **debug** the code. "
   ]
  },
  {
   "cell_type": "markdown",
   "metadata": {},
   "source": [
    "Next, let's take a look at basic Arithmetic operations.\n",
    "\n",
    "The symbols `+`, `-`, `*`, `/` are called **operators** which perform *addition*, *subtraction*, *multiplication*, and *division* respectively."
   ]
  },
  {
   "cell_type": "code",
   "execution_count": 3,
   "metadata": {},
   "outputs": [
    {
     "name": "stdout",
     "output_type": "stream",
     "text": [
      "15\n",
      "5\n",
      "50\n",
      "2.0\n"
     ]
    }
   ],
   "source": [
    "print(10 + 5)\n",
    "print(10 - 5)\n",
    "print(10 * 5)\n",
    "print(10 / 5)"
   ]
  },
  {
   "cell_type": "markdown",
   "metadata": {},
   "source": [
    "Any texts coming after `#` upto the end of the line is considered a **comment**. It will NOT be executed.\n",
    "\n",
    "Use comments to explain programs."
   ]
  },
  {
   "cell_type": "code",
   "execution_count": 4,
   "metadata": {},
   "outputs": [
    {
     "name": "stdout",
     "output_type": "stream",
     "text": [
      "Enter your name: Supakrit Chuchatwannakul\n",
      "Hello Supakrit Chuchatwannakul\n"
     ]
    }
   ],
   "source": [
    "# Prompt the user to input name and store it in the variable name\n",
    "name = input(\"Enter your name: \")\n",
    "# Concatenate 'Hello' with the variable name and print the result\n",
    "print(\"Hello \" + name)"
   ]
  },
  {
   "cell_type": "markdown",
   "metadata": {},
   "source": [
    "**Variables** as well as `input()` will be discussed later in this course.\n",
    "\n",
    "In many programming languages, **indentation** with spacebar or tab at the beginning of the line does not matter but NOT in Python.\n",
    "\n",
    "In Python, **indentation** of each line directly means something about the *structure* of the program."
   ]
  },
  {
   "cell_type": "code",
   "execution_count": 5,
   "metadata": {},
   "outputs": [
    {
     "name": "stderr",
     "output_type": "stream",
     "text": [
      "  File \"<stdin>\", line 3\n",
      "    print(\"This is the first line of code I've ever written!\")\n",
      "IndentationError: unexpected indent\n"
     ]
    }
   ],
   "source": [
    "%%script python --no-raise-error\n",
    "\n",
    "print(\"Hello world!\")\n",
    "  print(\"This is the first line of code I've ever written!\")\n",
    "print(\"I am so excited to learn Python!\")\n",
    "# IndentationError: unexpected indent\n"
   ]
  },
  {
   "cell_type": "code",
   "execution_count": 6,
   "metadata": {},
   "outputs": [
    {
     "name": "stdout",
     "output_type": "stream",
     "text": [
      "Type go: go\n",
      "Go!\n",
      "Have a good day!\n"
     ]
    }
   ],
   "source": [
    "x = input(\"Type go: \")\n",
    "if x == \"go\":\n",
    "    print(\"Go!\")\n",
    "print(\"Have a good day!\")"
   ]
  }
 ],
 "metadata": {
  "kernelspec": {
   "display_name": "Python 3 (ipykernel)",
   "language": "python",
   "name": "python3"
  },
  "language_info": {
   "codemirror_mode": {
    "name": "ipython",
    "version": 3
   },
   "file_extension": ".py",
   "mimetype": "text/x-python",
   "name": "python",
   "nbconvert_exporter": "python",
   "pygments_lexer": "ipython3",
   "version": "3.10.4"
  },
  "vscode": {
   "interpreter": {
    "hash": "69afb16850fb080b0d2f0cee190e8848b3ff785e95ea7eabe4fe94a2423f9ba5"
   }
  }
 },
 "nbformat": 4,
 "nbformat_minor": 2
}
