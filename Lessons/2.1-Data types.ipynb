{
 "cells": [
  {
   "cell_type": "markdown",
   "metadata": {},
   "source": [
    "# Beginning Data Types in Python\n",
    "---\n",
    "\n",
    "Let's get familiar with a first set of *data types* in Python.\n",
    "\n",
    "## Numbers\n",
    "\n",
    "* `int` for integers\n",
    "* `float` for real numbers. They can represent decimal points.\n",
    "* `complex` for complex numbers (with real and imaginary parts, very scientific!)\n",
    "\n",
    "To represent `int` values in the program, type *numbers* wihout decimal points."
   ]
  },
  {
   "cell_type": "code",
   "execution_count": 1,
   "metadata": {},
   "outputs": [
    {
     "name": "stdout",
     "output_type": "stream",
     "text": [
      "32\n",
      "64\n",
      "10000\n"
     ]
    }
   ],
   "source": [
    "print(32)\n",
    "print(64)\n",
    "print(10000)"
   ]
  },
  {
   "cell_type": "markdown",
   "metadata": {},
   "source": [
    "`type()` can be used for checking the data types of any vaules."
   ]
  },
  {
   "cell_type": "code",
   "execution_count": 2,
   "metadata": {},
   "outputs": [
    {
     "name": "stdout",
     "output_type": "stream",
     "text": [
      "<class 'int'>\n",
      "<class 'int'>\n",
      "<class 'int'>\n"
     ]
    }
   ],
   "source": [
    "print(type(32))\n",
    "print(type(64))\n",
    "print(type(10000))"
   ]
  },
  {
   "cell_type": "markdown",
   "metadata": {},
   "source": [
    "To represent `float` values in the program, type *numbers* wih decimal points."
   ]
  },
  {
   "cell_type": "code",
   "execution_count": 3,
   "metadata": {},
   "outputs": [
    {
     "name": "stdout",
     "output_type": "stream",
     "text": [
      "32.0\n",
      "64.75\n",
      "<class 'float'>\n",
      "<class 'float'>\n"
     ]
    }
   ],
   "source": [
    "print(32.0)\n",
    "print(64.75)\n",
    "print(type(32.0))\n",
    "print(type(64.75))"
   ]
  },
  {
   "cell_type": "markdown",
   "metadata": {},
   "source": [
    "To represent `complex` values in the program, use the format `real + imaginary * j`."
   ]
  },
  {
   "cell_type": "code",
   "execution_count": 4,
   "metadata": {},
   "outputs": [
    {
     "name": "stdout",
     "output_type": "stream",
     "text": [
      "(3+4j)\n",
      "6j\n",
      "<class 'complex'>\n",
      "<class 'complex'>\n"
     ]
    }
   ],
   "source": [
    "print(3 + 4j)\n",
    "print(6j)\n",
    "print(type(3 + 4j))\n",
    "print(type(6j))"
   ]
  },
  {
   "cell_type": "markdown",
   "metadata": {},
   "source": [
    "Be warned that typing in just `j` is NOT a complex number, but a variable name."
   ]
  },
  {
   "cell_type": "code",
   "execution_count": 5,
   "metadata": {},
   "outputs": [
    {
     "ename": "NameError",
     "evalue": "name 'j' is not defined",
     "output_type": "error",
     "traceback": [
      "\u001b[1;31m---------------------------------------------------------------------------\u001b[0m",
      "\u001b[1;31mNameError\u001b[0m                                 Traceback (most recent call last)",
      "Cell \u001b[1;32mIn[5], line 1\u001b[0m\n\u001b[1;32m----> 1\u001b[0m \u001b[39mprint\u001b[39m(j)\n",
      "\u001b[1;31mNameError\u001b[0m: name 'j' is not defined"
     ]
    }
   ],
   "source": [
    "print(j)"
   ]
  },
  {
   "cell_type": "code",
   "execution_count": 6,
   "metadata": {},
   "outputs": [
    {
     "name": "stdout",
     "output_type": "stream",
     "text": [
      "1j\n"
     ]
    }
   ],
   "source": [
    "print(1j)"
   ]
  },
  {
   "cell_type": "markdown",
   "metadata": {},
   "source": [
    "## Strings\n",
    "\n",
    "A string object is a sequence of characters. In Python, the data type is `str`.\n",
    "To represent `str` in the program, enclose text with *quotes*.\n",
    "\n",
    "Quotes could be:\n",
    "\n",
    "* Single quotes\n",
    "* Double quotes\n",
    "* Triple quotes"
   ]
  },
  {
   "cell_type": "code",
   "execution_count": 7,
   "metadata": {},
   "outputs": [
    {
     "name": "stdout",
     "output_type": "stream",
     "text": [
      "Hello world!\n",
      "Hello world!\n",
      "Hello world!\n",
      "<class 'str'>\n",
      "<class 'str'>\n",
      "<class 'str'>\n"
     ]
    }
   ],
   "source": [
    "print('Hello world!')\n",
    "print(\"Hello world!\")\n",
    "print('''Hello world!''')\n",
    "print(type('Hello world!'))\n",
    "print(type(\"Hello world!\"))\n",
    "print(type('''Hello world!'''))"
   ]
  },
  {
   "cell_type": "markdown",
   "metadata": {},
   "source": [
    "Since quotes are used to represent starting/ending of a String object, how can we write a sentence like `He said \"Hello!\"` or `It's okay to say \"Goodbye\"`."
   ]
  },
  {
   "cell_type": "code",
   "execution_count": 8,
   "metadata": {},
   "outputs": [
    {
     "name": "stdout",
     "output_type": "stream",
     "text": [
      "He said \"Hello!\"\n",
      "It's okay to say \"Goodbye\"\n"
     ]
    }
   ],
   "source": [
    "print('He said \"Hello!\"')\n",
    "print('''It's okay to say \"Goodbye\"''')"
   ]
  },
  {
   "cell_type": "markdown",
   "metadata": {},
   "source": [
    "If switching between **single** and **double** quotes is not an option, use **triple** quotes or use `\\` to **escape** the quotes."
   ]
  },
  {
   "cell_type": "code",
   "execution_count": 9,
   "metadata": {},
   "outputs": [
    {
     "name": "stdout",
     "output_type": "stream",
     "text": [
      "He said \"Hello!\"\n",
      "It's okay to say \"Goodbye\"\n",
      "Escape characters are \\, \", ', and \t\n"
     ]
    }
   ],
   "source": [
    "print(\"He said \\\"Hello!\\\"\")\n",
    "print(\"It's okay to say \\\"Goodbye\\\"\")\n",
    "print(\"Escape characters are \\\\, \\\", \\', and \\t\")"
   ]
  },
  {
   "cell_type": "markdown",
   "metadata": {},
   "source": [
    "Escape characters start with `\\`\n",
    "\n",
    "It is good to know in advanced that each escape character (E.g. `\"` , `'`, `\\`) is **counted as 1 character** even though we typed two characters.\n",
    "\n",
    "There are more escape characters than that we have mentioned. Another escape character you should be familiar with is the **newline character** (`\\n`)."
   ]
  },
  {
   "cell_type": "code",
   "execution_count": 10,
   "metadata": {},
   "outputs": [
    {
     "name": "stdout",
     "output_type": "stream",
     "text": [
      "The first line.\n",
      "The second line.\n",
      "The third line.\n"
     ]
    }
   ],
   "source": [
    "print(\"The first line.\\nThe second line.\\nThe third line.\")"
   ]
  },
  {
   "cell_type": "markdown",
   "metadata": {},
   "source": [
    "When multiple String objects are typed in a *sequence*, Python **concatenate** them automatically.\n"
   ]
  },
  {
   "cell_type": "code",
   "execution_count": 11,
   "metadata": {},
   "outputs": [
    {
     "name": "stdout",
     "output_type": "stream",
     "text": [
      "Storekeeper\n",
      "Storekeeper\n",
      "Storekeeper\n"
     ]
    }
   ],
   "source": [
    "print(\"Store\" \"keep\" \"er\")\n",
    "print(\"Store\" \"keep\"           \"er\")\n",
    "print(\"Store\"\"keep\"\"er\")"
   ]
  },
  {
   "cell_type": "markdown",
   "metadata": {},
   "source": [
    "## Boolean\n",
    "We type keywords `True` and `False` to represent Boolean values."
   ]
  },
  {
   "cell_type": "code",
   "execution_count": 12,
   "metadata": {},
   "outputs": [
    {
     "name": "stdout",
     "output_type": "stream",
     "text": [
      "True\n",
      "False\n",
      "<class 'bool'>\n",
      "<class 'bool'>\n"
     ]
    }
   ],
   "source": [
    "print(True)\n",
    "print(False)\n",
    "print(type(True))\n",
    "print(type(False))"
   ]
  },
  {
   "cell_type": "markdown",
   "metadata": {},
   "source": [
    "Be remined that `True` and `False` are **case sensitive**."
   ]
  }
 ],
 "metadata": {
  "kernelspec": {
   "display_name": "Python 3.10.4 64-bit",
   "language": "python",
   "name": "python3"
  },
  "language_info": {
   "codemirror_mode": {
    "name": "ipython",
    "version": 3
   },
   "file_extension": ".py",
   "mimetype": "text/x-python",
   "name": "python",
   "nbconvert_exporter": "python",
   "pygments_lexer": "ipython3",
   "version": "3.10.4"
  },
  "orig_nbformat": 4,
  "vscode": {
   "interpreter": {
    "hash": "69afb16850fb080b0d2f0cee190e8848b3ff785e95ea7eabe4fe94a2423f9ba5"
   }
  }
 },
 "nbformat": 4,
 "nbformat_minor": 2
}
