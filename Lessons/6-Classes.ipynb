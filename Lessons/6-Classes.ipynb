{
 "cells": [
  {
   "attachments": {},
   "cell_type": "markdown",
   "metadata": {},
   "source": [
    "# Classes\n",
    "\n",
    "In object-oriented programming (`OOP`), a class is a structure that allows you to group together a set of **properties** (called `attributes`) and **functions** (called `methods`) to manipulate those properties."
   ]
  },
  {
   "cell_type": "code",
   "execution_count": 1,
   "metadata": {},
   "outputs": [
    {
     "name": "stdout",
     "output_type": "stream",
     "text": [
      "Hello, my name is Peter!\n",
      "Hello, my name is Anna!\n",
      "Peter\n",
      "20\n",
      "Anna\n",
      "19\n"
     ]
    }
   ],
   "source": [
    "class Person:\n",
    "    def __init__(self, name, age): # class constructor\n",
    "        self.name = name # class variable\n",
    "        self.age = age # class variable\n",
    "\n",
    "    def greet(self): # class function to print a greeting\n",
    "        print(\"Hello, my name is %s!\" % self.name)\n",
    "\n",
    "a = Person(\"Peter\", 20) # instantiation\n",
    "b = Person(\"Anna\", 19) # instantiation\n",
    "\n",
    "a.greet() # call a's greet method\n",
    "b.greet() # call b's greet method\n",
    "\n",
    "print(a.name)\n",
    "print(a.age)  # We can also access the attributes of an object\n",
    "\n",
    "print(b.name)\n",
    "print(b.age)  # We can also access the attributes of an object"
   ]
  },
  {
   "attachments": {},
   "cell_type": "markdown",
   "metadata": {},
   "source": [
    "Most classes will need the constructor method (`__init__`) to initialize the class’s attributes. In the above code snippet, the constructor of the class receives the person’s __name__ and __age__ and stores that information in the class’s `instance` (referenced by the self keyword). Finally, the `greet()` method prints the name of the person as stored in a **specific class instance** (`object`)"
   ]
  },
  {
   "cell_type": "code",
   "execution_count": 12,
   "metadata": {},
   "outputs": [
    {
     "name": "stdout",
     "output_type": "stream",
     "text": [
      "3\n",
      "4\n",
      "12\n",
      "14\n"
     ]
    }
   ],
   "source": [
    "class Rectangle:\n",
    "    def __init__(self, x1, y1, x2, y2):\n",
    "        if x1 < x2 and y1 > y2:\n",
    "            self.x1 = x1\n",
    "            self.y1 = y1\n",
    "            self.x2 = x2\n",
    "            self.y2 = y2\n",
    "        else:\n",
    "            print(\"Incorrect coordinates of the rectangle!\")\n",
    "\n",
    "    def width(self):\n",
    "        return self.x2 - self.x1\n",
    "\n",
    "    def height(self):\n",
    "        return self.y1 - self.y2\n",
    "\n",
    "    def area(self):\n",
    "        return self.width() * self.height()\n",
    "\n",
    "    def perimeter(self):\n",
    "        return (self.width() + self.height()) * 2\n",
    "\n",
    "myRect = Rectangle(0, 5, 3, 1)\n",
    "print(myRect.width())\n",
    "print(myRect.height())\n",
    "print(myRect.area())\n",
    "print(myRect.perimeter())"
   ]
  },
  {
   "attachments": {},
   "cell_type": "markdown",
   "metadata": {},
   "source": [
    "In `Python`, if we make a class and print an `instance` of that class the output may `vary` every time. It prints the **address** of the object in memory like `<__main__.Rectangle object at 0x7ff0c2318670>`.\n",
    "\n",
    "However, python has a built-in method `__str__` used for the **string representation** of an object. `__repr__` is another built-in method which is similar to `__str__`. Both of them can be overridden for any class and there are only minor differences.\n",
    "\n",
    "`str()`:\n",
    "\n",
    "1. makes the object readable\n",
    "2. generates output for end-user\n",
    "\n",
    "`repr()`:\n",
    "\n",
    "1. needs code that reproduces the object\n",
    "2. generates output for developer"
   ]
  },
  {
   "cell_type": "code",
   "execution_count": 13,
   "metadata": {},
   "outputs": [
    {
     "name": "stdout",
     "output_type": "stream",
     "text": [
      "0, 5, 3, 1\n",
      "3\n",
      "4\n",
      "12\n",
      "14\n"
     ]
    }
   ],
   "source": [
    "class Rectangle:\n",
    "    def __init__(self, x1, y1, x2, y2):\n",
    "        if x1 < x2 and y1 > y2:\n",
    "            self.x1 = x1\n",
    "            self.y1 = y1\n",
    "            self.x2 = x2\n",
    "            self.y2 = y2\n",
    "        else:\n",
    "            print(\"Incorrect coordinates of the rectangle!\")\n",
    "\n",
    "    def __str__ (self):\n",
    "        return f\"{self.x1}, {self.y1}, {self.x2}, {self.y2}\"\n",
    "\n",
    "    def width(self):\n",
    "        return self.x2 - self.x1\n",
    "\n",
    "    def height(self):\n",
    "        return self.y1 - self.y2\n",
    "\n",
    "    def area(self):\n",
    "        return self.width() * self.height()\n",
    "\n",
    "    def perimeter(self):\n",
    "        return (self.width() + self.height()) * 2\n",
    "\n",
    "myRect = Rectangle(0, 5, 3, 1)\n",
    "print(myRect)\n",
    "print(myRect.width())\n",
    "print(myRect.height())\n",
    "print(myRect.area())\n",
    "print(myRect.perimeter())"
   ]
  },
  {
   "attachments": {},
   "cell_type": "markdown",
   "metadata": {},
   "source": [
    "## Class Inheritance\n",
    "\n",
    "Inheritance is an essential part of object-oriented programming. Inheritance is a process in which a `subclass` can `inherit` the **attributes** and **methods** of another class, allowing it to rewrite some of the `super` class’s functionalities."
   ]
  },
  {
   "cell_type": "code",
   "execution_count": 14,
   "metadata": {},
   "outputs": [
    {
     "name": "stdout",
     "output_type": "stream",
     "text": [
      "I don't talk to strangers!!\n"
     ]
    }
   ],
   "source": [
    "class Person:\n",
    "    def __init__(self, name, age): # Person's constructor\n",
    "        self.name = name # Person's attribute\n",
    "        self.age = age # Person's attribute\n",
    "\n",
    "    def greet(self): # Person's method\n",
    "        print(\"Hello, my name is %s!\" % self.name)\n",
    "\n",
    "class TenYearOldPerson(Person): # TenYearOldPerson inherits from Person\n",
    "    def __init__(self, name): # TenYearOldPerson's constructor\n",
    "        Person.__init__(self, name, 10) # accesses Person's constructor\n",
    "\n",
    "    def greet(self): # rewrites the greet method\n",
    "        print(\"I don't talk to strangers!!\")\n",
    "\n",
    "child = TenYearOldPerson(\"Jack\") # instance of TenYearOldPerson\n",
    "child.greet() # call greet method of the TenYearOldPerson"
   ]
  },
  {
   "attachments": {},
   "cell_type": "markdown",
   "metadata": {},
   "source": [
    "## Multi-Level Inheritance"
   ]
  },
  {
   "cell_type": "code",
   "execution_count": 15,
   "metadata": {},
   "outputs": [
    {
     "name": "stdout",
     "output_type": "stream",
     "text": [
      "I eat meat.\n"
     ]
    }
   ],
   "source": [
    "class Animal():\n",
    "    def __init__(self, name, food, characteristic):\n",
    "        self.name = name\n",
    "        self.characteristic = characteristic\n",
    "        self.food = food\n",
    "\n",
    "    def printer(self):\n",
    "        print (\"I am a \" + str(self.name) + \".\")\n",
    "\n",
    "class Mammal(Animal):\n",
    "    def __init__(self, name, food):\n",
    "        Animal.__init__(self, name, food, \"warm blooded\")\n",
    "\n",
    "    def printer(self):\n",
    "        print (\"I am warm blooded.\")\n",
    "\n",
    "class Carnivore(Mammal):\n",
    "    def __init__(self, name):\n",
    "        Mammal.__init__(self, name, \"meat\")\n",
    "\n",
    "    def printer(self):\n",
    "        print (\"I eat meat.\")\n",
    "\n",
    "lion = Carnivore(\"lion\")\n",
    "lion.printer()"
   ]
  },
  {
   "attachments": {},
   "cell_type": "markdown",
   "metadata": {},
   "source": [
    "## Multiple Inheritance"
   ]
  },
  {
   "cell_type": "code",
   "execution_count": 17,
   "metadata": {},
   "outputs": [
    {
     "name": "stdout",
     "output_type": "stream",
     "text": [
      "Hi, I am Ali.\n",
      "My roll number is 13K-1234.\n",
      "I teach Data Structures.\n",
      "I got an A in Data Structures.\n",
      "Hi, I am Ali.\n",
      "My roll number is 13K-1234.\n",
      "I teach Data Structures.\n",
      "Ahmed, you can not apply for TAship.\n"
     ]
    }
   ],
   "source": [
    "class Person:\n",
    "    def __init__(self, name):\n",
    "        self.name = name\n",
    "\n",
    "    def greet(self):\n",
    "        print(\"Hi, I am \" + self.name + \".\")\n",
    "\n",
    "\n",
    "class Student(Person): # Student inherits from Person class\n",
    "    def __init__(self, name, rollNumber):\n",
    "        self.name = name # Attribute inherited from the Person class\n",
    "        self.rollNumber = rollNumber # Student's attribute\n",
    "        Person.__init__(self, name) # Person's constructor\n",
    "\n",
    "    def report(self): # Student's method\n",
    "        print(\"My roll number is \" + self.rollNumber + \".\")\n",
    "\n",
    "class Teacher(Person): # Teacher inherits from Person class\n",
    "    def __init__(self, name, course):\n",
    "        self.name = name # Attribute inherited from the Person class\n",
    "        self.course = course # Teacher's attribute\n",
    "        Person.__init__(self, name) # Person's constructor   \n",
    "\n",
    "    def introduce(self): # Teacher's method\n",
    "        print(\"I teach \" + self.course + \".\")\n",
    "\n",
    "class TA(Student, Teacher): # TA inherits from Student and Teacher class\n",
    "    def __init__(self, name, rollNumber, course, grade):\n",
    "        self.name = name # Attribute inherited from the Person class\n",
    "        self.rollNumber = rollNumber # Attribute inherited from the Student class\n",
    "        self.course = course # Attribute inherited from the Teacher class\n",
    "        self.grade = grade # TA's attribute\n",
    "\n",
    "    def details(self): # TA's method\n",
    "        if self.grade==\"A*\" or self.grade==\"A\" or self.grade==\"A-\": # if person is elligible for TAship\n",
    "            Person.greet(self) # can access Person's greet method\n",
    "            Student.report(self) # can access Student's report method\n",
    "            Teacher.introduce(self) # can access Teacher's introduce method\n",
    "            print (\"I got an \" + self.grade + \" in \" + self.course + \".\")\n",
    "        else: # person is not elligible for TAship\n",
    "            print(self.name + \", you can not apply for TAship.\")\n",
    "\n",
    "ta1 = TA('Ali', '13K-1234', 'Data Structures' ,'A') # TA object\n",
    "ta1.details()\n",
    "ta1.greet()\n",
    "ta1.report()\n",
    "ta1.introduce()\n",
    "\n",
    "ta2 = TA('Ahmed', '14K-5678', 'Algorithms' ,'B')\n",
    "ta2.details()"
   ]
  },
  {
   "attachments": {},
   "cell_type": "markdown",
   "metadata": {},
   "source": [
    "## Super Method"
   ]
  },
  {
   "cell_type": "code",
   "execution_count": 18,
   "metadata": {},
   "outputs": [
    {
     "name": "stdout",
     "output_type": "stream",
     "text": [
      "Hi, I'm Ali.\n",
      "I am a PhD student.\n"
     ]
    }
   ],
   "source": [
    "class Person(object): # Super class\n",
    "    def __init__(self, name):\n",
    "        self.name = name\n",
    "\n",
    "    def greet(self):\n",
    "        print (\"Hi, I'm \" + self.name + \".\") # Super class does something\n",
    "\n",
    "class Student(Person): # Subclass inheriting from the super class\n",
    "    def __init__(self, name, degree):\n",
    "        self.name = name\n",
    "        self.degree = degree\n",
    "        super().__init__(name) # calls constructor of super class\n",
    "\n",
    "    def greet(self):\n",
    "        super().greet() # calls method of super class\n",
    "        print (\"I am a \" + self.degree + \" student.\")\n",
    "\n",
    "student = Student(\"Ali\", \"PhD\") # Create an object of the subclass\n",
    "student.greet()"
   ]
  },
  {
   "cell_type": "code",
   "execution_count": null,
   "metadata": {},
   "outputs": [],
   "source": [
    "class Rectangle:\n",
    "    def __init__(self, x1, y1, x2, y2): # class constructor\n",
    "        self.x1 = x1 # class variable\n",
    "        self.y1 = y1 # class variable\n",
    "        self.x2 = x2 # class variable\n",
    "        self.y2 = y2 # class variable\n",
    "\n",
    "    def width(self):\n",
    "        return self.x2 - self.x1\n",
    "\n",
    "    def height(self):\n",
    "        return self.y2 - self.y1\n",
    "\n",
    "    def area(self):\n",
    "        return self.width() * self.height()\n",
    "\n",
    "class Square(Rectangle):\n",
    "    def __init__(self, x1, y1, length): # class constructor\n",
    "        self.x1 = x1 # class variable\n",
    "        self.y1 = y1 # class variable\n",
    "        self.x2 = x1 + length # class variable\n",
    "        self.y2 = y1 + length # class variable\n",
    "        super().__init__(self.x1, self.y1, self.x2, self.y2)"
   ]
  }
 ],
 "metadata": {
  "kernelspec": {
   "display_name": "Python 3",
   "language": "python",
   "name": "python3"
  },
  "language_info": {
   "codemirror_mode": {
    "name": "ipython",
    "version": 3
   },
   "file_extension": ".py",
   "mimetype": "text/x-python",
   "name": "python",
   "nbconvert_exporter": "python",
   "pygments_lexer": "ipython3",
   "version": "3.11.1"
  },
  "orig_nbformat": 4
 },
 "nbformat": 4,
 "nbformat_minor": 2
}
