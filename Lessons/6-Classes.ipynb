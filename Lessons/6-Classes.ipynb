{
 "cells": [
  {
   "attachments": {},
   "cell_type": "markdown",
   "metadata": {},
   "source": [
    "# Classes\n",
    "\n",
    "A `class` can be thought of as a `blueprint` for creating objects and `objects` are a `collection` of **data** and their **behaviors**.\n",
    "\n",
    "In object-oriented programming (`OOP`), a class is a structure that allows you to group together a set of **properties** (called `attributes`) and **functions** (called `methods`) to manipulate those properties.\n",
    "\n",
    "## Class variables\n",
    "The class variables are shared by `all instances` or objects of the classes. A change in the class variable will change the value of that property in `all the objects` of the class.\n",
    "\n",
    "## Instance variables\n",
    "The instance variables are `unique` to each instance or object of the class. A change in the instance variable will change the value of the property in that `specific` object only."
   ]
  },
  {
   "cell_type": "code",
   "execution_count": 1,
   "metadata": {},
   "outputs": [
    {
     "name": "stdout",
     "output_type": "stream",
     "text": [
      "Hello, my name is Peter!\n",
      "Hello, my name is Anna!\n",
      "Peter\n",
      "20\n",
      "Anna\n",
      "19\n"
     ]
    }
   ],
   "source": [
    "class Person:\n",
    "    country = \"Thailand\" # class variable\n",
    "\n",
    "    def __init__(self, name, age): # class constructor\n",
    "        self.name = name # instance variable\n",
    "        self.age = age # instance variable\n",
    "\n",
    "    def greet(self): # class function to print a greeting\n",
    "        print(\"Hello, my name is %s!\" % self.name)\n",
    "\n",
    "a = Person(\"Peter\", 20) # instantiation\n",
    "b = Person(\"Anna\", 19) # instantiation\n",
    "\n",
    "a.greet() # call a's greet method\n",
    "b.greet() # call b's greet method\n",
    "\n",
    "print(a.name)\n",
    "print(a.age)  # We can also access the attributes of an object\n",
    "\n",
    "print(b.name)\n",
    "print(b.age)  # We can also access the attributes of an object"
   ]
  },
  {
   "attachments": {},
   "cell_type": "markdown",
   "metadata": {},
   "source": [
    "Most classes will need the constructor method (`__init__`) to initialize the class’s attributes. In the above code snippet, the constructor of the class receives the person’s __name__ and __age__ and stores that information in the class’s `instance` (referenced by the self keyword). Finally, the `greet()` method prints the name of the person as stored in a **specific class instance** (`object`)"
   ]
  },
  {
   "cell_type": "code",
   "execution_count": 2,
   "metadata": {},
   "outputs": [
    {
     "name": "stdout",
     "output_type": "stream",
     "text": [
      "3\n",
      "4\n",
      "12\n",
      "14\n"
     ]
    }
   ],
   "source": [
    "class Rectangle:\n",
    "    def __init__(self, x1, y1, x2, y2):\n",
    "        if x1 < x2 and y1 > y2:\n",
    "            self.x1 = x1\n",
    "            self.y1 = y1\n",
    "            self.x2 = x2\n",
    "            self.y2 = y2\n",
    "        else:\n",
    "            print(\"Incorrect coordinates of the rectangle!\")\n",
    "\n",
    "    def width(self):\n",
    "        return self.x2 - self.x1\n",
    "\n",
    "    def height(self):\n",
    "        return self.y1 - self.y2\n",
    "\n",
    "    def area(self):\n",
    "        return self.width() * self.height()\n",
    "\n",
    "    def perimeter(self):\n",
    "        return (self.width() + self.height()) * 2\n",
    "\n",
    "myRect = Rectangle(0, 5, 3, 1)\n",
    "print(myRect.width())\n",
    "print(myRect.height())\n",
    "print(myRect.area())\n",
    "print(myRect.perimeter())"
   ]
  },
  {
   "attachments": {},
   "cell_type": "markdown",
   "metadata": {},
   "source": [
    "## Initializer with optional parameters"
   ]
  },
  {
   "cell_type": "code",
   "execution_count": 3,
   "metadata": {},
   "outputs": [
    {
     "name": "stdout",
     "output_type": "stream",
     "text": [
      "Steve\n",
      "ID: None\n",
      "Salary: 0\n",
      "Department: None\n",
      "Mark\n",
      "ID: 3789\n",
      "Salary: 2500\n",
      "Department: Human Resources\n"
     ]
    }
   ],
   "source": [
    "class Employee:\n",
    "    # Defining the properties and assigning None to them\n",
    "    def __init__(self, ID=None, salary=0, department=None):\n",
    "        self.ID = ID\n",
    "        self.salary = salary\n",
    "        self.department = department\n",
    "\n",
    "\n",
    "# Creating an object of the Employee class with default parameters\n",
    "Steve = Employee()\n",
    "Mark = Employee(\"3789\", 2500, \"Human Resources\")\n",
    "\n",
    "# Printing properties of Steve and Mark\n",
    "print(\"Steve\")\n",
    "print(\"ID:\", Steve.ID)\n",
    "print(\"Salary:\", Steve.salary)\n",
    "print(\"Department:\", Steve.department)\n",
    "print(\"Mark\")\n",
    "print(\"ID:\", Mark.ID)\n",
    "print(\"Salary:\", Mark.salary)\n",
    "print(\"Department:\", Mark.department)"
   ]
  },
  {
   "attachments": {},
   "cell_type": "markdown",
   "metadata": {},
   "source": [
    "## Class methods\n",
    "\n",
    "Class methods work with `class variables` and are accessible using the `class name` rather than its object."
   ]
  },
  {
   "cell_type": "code",
   "execution_count": 4,
   "metadata": {},
   "outputs": [],
   "source": [
    "class MyClass:\n",
    "    classVariable = 'educative'\n",
    "\n",
    "    @classmethod\n",
    "    def demo(cls):\n",
    "        return cls.classVariable"
   ]
  },
  {
   "attachments": {},
   "cell_type": "markdown",
   "metadata": {},
   "source": [
    "## Static methods\n",
    "\n",
    "Static methods are methods that are usually limited to `class` only and not their objects. They have no direct relation to class variables or instance variables. They are used as `utility functions` inside the class or when we do not want the inherited classes to modify a method definition."
   ]
  },
  {
   "cell_type": "code",
   "execution_count": 5,
   "metadata": {},
   "outputs": [
    {
     "name": "stdout",
     "output_type": "stream",
     "text": [
      "23.148148148148145\n"
     ]
    }
   ],
   "source": [
    "class BodyInfo:\n",
    "    @staticmethod\n",
    "    def bmi(weight, height):\n",
    "        return weight / (height**2)\n",
    "\n",
    "print(BodyInfo.bmi(75, 1.8))"
   ]
  },
  {
   "attachments": {},
   "cell_type": "markdown",
   "metadata": {},
   "source": [
    "## Access Modifiers\n",
    "\n",
    "1. **Public attributes** are those that can be accessed `inside` the class and `outside` the `class`.\n",
    "2. **Private attributes** cannot be accessed directly from outside the class but can be accessed from inside the class."
   ]
  },
  {
   "cell_type": "code",
   "execution_count": 6,
   "metadata": {},
   "outputs": [
    {
     "name": "stdout",
     "output_type": "stream",
     "text": [
      "ID: 3789\n"
     ]
    },
    {
     "name": "stderr",
     "output_type": "stream",
     "text": [
      "Traceback (most recent call last):\n",
      "  File \"<stdin>\", line 10, in <module>\n",
      "AttributeError: 'Employee' object has no attribute '__salary'\n"
     ]
    }
   ],
   "source": [
    "%%script python --no-raise-error\n",
    "\n",
    "class Employee:\n",
    "    def __init__(self, ID, salary):\n",
    "        self.ID = ID # Public property\n",
    "        self.__salary = salary  # Private property\n",
    "\n",
    "\n",
    "Steve = Employee(3789, 2500)\n",
    "print(\"ID:\", Steve.ID)\n",
    "print(\"Salary:\", Steve.__salary)  # This will cause an error"
   ]
  },
  {
   "cell_type": "code",
   "execution_count": 7,
   "metadata": {},
   "outputs": [
    {
     "name": "stdout",
     "output_type": "stream",
     "text": [
      "2500\n"
     ]
    }
   ],
   "source": [
    "class Employee:\n",
    "    def __init__(self, ID, salary):\n",
    "        self.ID = ID\n",
    "        self.__salary = salary  # salary is a private property\n",
    "\n",
    "\n",
    "Steve = Employee(3789, 2500)\n",
    "print(Steve._Employee__salary)  # accessing a private property"
   ]
  },
  {
   "attachments": {},
   "cell_type": "markdown",
   "metadata": {},
   "source": [
    "## Encapsulation\n",
    "\n",
    "When encapsulating classes, a good convention is to declare all `variables` of a class `private`. This will restrict direct access by the code outside that class. It has to implement `public methods` to let the outside world communicate with this class. These methods are called **getters** and **setters**."
   ]
  },
  {
   "cell_type": "code",
   "execution_count": 8,
   "metadata": {},
   "outputs": [
    {
     "name": "stdout",
     "output_type": "stream",
     "text": [
      "Access Granted against username: steve and password: 12345\n",
      "Invalid Credentials!\n"
     ]
    },
    {
     "name": "stderr",
     "output_type": "stream",
     "text": [
      "Traceback (most recent call last):\n",
      "  File \"<stdin>\", line 31, in <module>\n",
      "AttributeError: 'User' object has no attribute '__password'\n"
     ]
    }
   ],
   "source": [
    "%%script python --no-raise-error\n",
    "\n",
    "class User:\n",
    "    def __init__(self, username=None, password=None):\n",
    "        self.__username = username\n",
    "        self.__password = password\n",
    "\n",
    "    def setUsername(self, x): # setters\n",
    "        self.__username = x\n",
    "\n",
    "    def getUsername(self): # getters\n",
    "        return (self.__username)\n",
    "\n",
    "    def login(self, username, password):\n",
    "        if ((self.__username.lower() == username.lower())\n",
    "                and (self.__password == password)):\n",
    "            print(\n",
    "                \"Access Granted against username:\",\n",
    "                self.__username.lower(),\n",
    "                \"and password:\",\n",
    "                self.__password)\n",
    "        else:\n",
    "            print(\"Invalid Credentials!\")\n",
    "\n",
    "\n",
    "# Created a new User object and stored the password and username\n",
    "Steve = User(\"Steve\", \"12345\")\n",
    "Steve.login(\"steve\", \"12345\")  # Grants access because credentials are valid\n",
    "\n",
    "# Does not grant access since the credentails are invalid\n",
    "Steve.login(\"steve\", \"6789\")\n",
    "Steve.__password  # Compilation error will occur due to this line"
   ]
  },
  {
   "attachments": {},
   "cell_type": "markdown",
   "metadata": {},
   "source": [
    "In `Python`, if we make a class and print an `instance` of that class the output may `vary` every time. It prints the **address** of the object in memory like `<__main__.Rectangle object at 0x7ff0c2318670>`.\n",
    "\n",
    "However, python has a built-in method `__str__` used for the **string representation** of an object. `__repr__` is another built-in method which is similar to `__str__`. Both of them can be overridden for any class and there are only minor differences.\n",
    "\n",
    "`str()`:\n",
    "\n",
    "1. makes the object readable\n",
    "2. generates output for end-user\n",
    "\n",
    "`repr()`:\n",
    "\n",
    "1. needs code that reproduces the object\n",
    "2. generates output for developer"
   ]
  },
  {
   "cell_type": "code",
   "execution_count": 9,
   "metadata": {},
   "outputs": [
    {
     "name": "stdout",
     "output_type": "stream",
     "text": [
      "0, 5, 3, 1\n",
      "3\n",
      "4\n",
      "12\n",
      "14\n"
     ]
    }
   ],
   "source": [
    "class Rectangle:\n",
    "    def __init__(self, x1, y1, x2, y2):\n",
    "        if x1 < x2 and y1 > y2:\n",
    "            self.x1 = x1\n",
    "            self.y1 = y1\n",
    "            self.x2 = x2\n",
    "            self.y2 = y2\n",
    "        else:\n",
    "            print(\"Incorrect coordinates of the rectangle!\")\n",
    "\n",
    "    def __str__ (self):\n",
    "        return f\"{self.x1}, {self.y1}, {self.x2}, {self.y2}\"\n",
    "\n",
    "    def width(self):\n",
    "        return self.x2 - self.x1\n",
    "\n",
    "    def height(self):\n",
    "        return self.y1 - self.y2\n",
    "\n",
    "    def area(self):\n",
    "        return self.width() * self.height()\n",
    "\n",
    "    def perimeter(self):\n",
    "        return (self.width() + self.height()) * 2\n",
    "\n",
    "myRect = Rectangle(0, 5, 3, 1)\n",
    "print(myRect)\n",
    "print(myRect.width())\n",
    "print(myRect.height())\n",
    "print(myRect.area())\n",
    "print(myRect.perimeter())"
   ]
  },
  {
   "attachments": {},
   "cell_type": "markdown",
   "metadata": {},
   "source": [
    "## Class Inheritance\n",
    "\n",
    "Inheritance is an essential part of object-oriented programming. Inheritance is a process in which a `subclass` can `inherit` the __public__ **attributes** and **methods** of another class, allowing it to rewrite some of the `super` class’s functionalities."
   ]
  },
  {
   "cell_type": "code",
   "execution_count": 10,
   "metadata": {},
   "outputs": [
    {
     "name": "stdout",
     "output_type": "stream",
     "text": [
      "I don't talk to strangers!!\n"
     ]
    }
   ],
   "source": [
    "class Person:\n",
    "    def __init__(self, name, age): # Person's constructor\n",
    "        self.name = name # Person's attribute\n",
    "        self.age = age # Person's attribute\n",
    "\n",
    "    def greet(self): # Person's method\n",
    "        print(\"Hello, my name is %s!\" % self.name)\n",
    "\n",
    "class TenYearOldPerson(Person): # TenYearOldPerson inherits from Person\n",
    "    def __init__(self, name): # TenYearOldPerson's constructor\n",
    "        Person.__init__(self, name, 10) # accesses Person's constructor\n",
    "\n",
    "    def greet(self): # rewrites the greet method\n",
    "        print(\"I don't talk to strangers!!\")\n",
    "\n",
    "child = TenYearOldPerson(\"Jack\") # instance of TenYearOldPerson\n",
    "child.greet() # call greet method of the TenYearOldPerson"
   ]
  },
  {
   "attachments": {},
   "cell_type": "markdown",
   "metadata": {},
   "source": [
    "## Multi-Level Inheritance"
   ]
  },
  {
   "cell_type": "code",
   "execution_count": 11,
   "metadata": {},
   "outputs": [
    {
     "name": "stdout",
     "output_type": "stream",
     "text": [
      "I eat meat.\n"
     ]
    }
   ],
   "source": [
    "class Animal():\n",
    "    def __init__(self, name, food, characteristic):\n",
    "        self.name = name\n",
    "        self.characteristic = characteristic\n",
    "        self.food = food\n",
    "\n",
    "    def printer(self):\n",
    "        print (\"I am a \" + str(self.name) + \".\")\n",
    "\n",
    "class Mammal(Animal):\n",
    "    def __init__(self, name, food):\n",
    "        Animal.__init__(self, name, food, \"warm blooded\")\n",
    "\n",
    "    def printer(self):\n",
    "        print (\"I am warm blooded.\")\n",
    "\n",
    "class Carnivore(Mammal):\n",
    "    def __init__(self, name):\n",
    "        Mammal.__init__(self, name, \"meat\")\n",
    "\n",
    "    def printer(self):\n",
    "        print (\"I eat meat.\")\n",
    "\n",
    "lion = Carnivore(\"lion\")\n",
    "lion.printer()"
   ]
  },
  {
   "attachments": {},
   "cell_type": "markdown",
   "metadata": {},
   "source": [
    "## Multiple Inheritance"
   ]
  },
  {
   "cell_type": "code",
   "execution_count": 12,
   "metadata": {},
   "outputs": [
    {
     "name": "stdout",
     "output_type": "stream",
     "text": [
      "Hi, I am Ali.\n",
      "My roll number is 13K-1234.\n",
      "I teach Data Structures.\n",
      "I got an A in Data Structures.\n",
      "Hi, I am Ali.\n",
      "My roll number is 13K-1234.\n",
      "I teach Data Structures.\n",
      "Ahmed, you can not apply for TAship.\n"
     ]
    }
   ],
   "source": [
    "class Person:\n",
    "    def __init__(self, name):\n",
    "        self.name = name\n",
    "\n",
    "    def greet(self):\n",
    "        print(\"Hi, I am \" + self.name + \".\")\n",
    "\n",
    "\n",
    "class Student(Person): # Student inherits from Person class\n",
    "    def __init__(self, name, rollNumber):\n",
    "        self.name = name # Attribute inherited from the Person class\n",
    "        self.rollNumber = rollNumber # Student's attribute\n",
    "        Person.__init__(self, name) # Person's constructor\n",
    "\n",
    "    def report(self): # Student's method\n",
    "        print(\"My roll number is \" + self.rollNumber + \".\")\n",
    "\n",
    "class Teacher(Person): # Teacher inherits from Person class\n",
    "    def __init__(self, name, course):\n",
    "        self.name = name # Attribute inherited from the Person class\n",
    "        self.course = course # Teacher's attribute\n",
    "        Person.__init__(self, name) # Person's constructor   \n",
    "\n",
    "    def introduce(self): # Teacher's method\n",
    "        print(\"I teach \" + self.course + \".\")\n",
    "\n",
    "class TA(Student, Teacher): # TA inherits from Student and Teacher class\n",
    "    def __init__(self, name, rollNumber, course, grade):\n",
    "        self.name = name # Attribute inherited from the Person class\n",
    "        self.rollNumber = rollNumber # Attribute inherited from the Student class\n",
    "        self.course = course # Attribute inherited from the Teacher class\n",
    "        self.grade = grade # TA's attribute\n",
    "\n",
    "    def details(self): # TA's method\n",
    "        if self.grade==\"A*\" or self.grade==\"A\" or self.grade==\"A-\": # if person is elligible for TAship\n",
    "            Person.greet(self) # can access Person's greet method\n",
    "            Student.report(self) # can access Student's report method\n",
    "            Teacher.introduce(self) # can access Teacher's introduce method\n",
    "            print (\"I got an \" + self.grade + \" in \" + self.course + \".\")\n",
    "        else: # person is not elligible for TAship\n",
    "            print(self.name + \", you can not apply for TAship.\")\n",
    "\n",
    "ta1 = TA('Ali', '13K-1234', 'Data Structures' ,'A') # TA object\n",
    "ta1.details()\n",
    "ta1.greet()\n",
    "ta1.report()\n",
    "ta1.introduce()\n",
    "\n",
    "ta2 = TA('Ahmed', '14K-5678', 'Algorithms' ,'B')\n",
    "ta2.details()"
   ]
  },
  {
   "attachments": {},
   "cell_type": "markdown",
   "metadata": {},
   "source": [
    "## Super Method"
   ]
  },
  {
   "cell_type": "code",
   "execution_count": 13,
   "metadata": {},
   "outputs": [
    {
     "name": "stdout",
     "output_type": "stream",
     "text": [
      "Hi, I'm Ali.\n",
      "I am a PhD student.\n"
     ]
    }
   ],
   "source": [
    "class Person(object): # Super class\n",
    "    def __init__(self, name):\n",
    "        self.name = name\n",
    "\n",
    "    def greet(self):\n",
    "        print (\"Hi, I'm \" + self.name + \".\") # Super class does something\n",
    "\n",
    "class Student(Person): # Subclass inheriting from the super class\n",
    "    def __init__(self, name, degree):\n",
    "        self.name = name\n",
    "        self.degree = degree\n",
    "        super().__init__(name) # calls constructor of super class\n",
    "\n",
    "    def greet(self):\n",
    "        super().greet() # calls method of super class\n",
    "        print (\"I am a \" + self.degree + \" student.\")\n",
    "\n",
    "student = Student(\"Ali\", \"PhD\") # Create an object of the subclass\n",
    "student.greet()"
   ]
  },
  {
   "cell_type": "code",
   "execution_count": 14,
   "metadata": {},
   "outputs": [],
   "source": [
    "class Rectangle:\n",
    "    def __init__(self, x1, y1, x2, y2): # class constructor\n",
    "        self.x1 = x1 # class variable\n",
    "        self.y1 = y1 # class variable\n",
    "        self.x2 = x2 # class variable\n",
    "        self.y2 = y2 # class variable\n",
    "\n",
    "    def width(self):\n",
    "        return self.x2 - self.x1\n",
    "\n",
    "    def height(self):\n",
    "        return self.y2 - self.y1\n",
    "\n",
    "    def area(self):\n",
    "        return self.width() * self.height()\n",
    "\n",
    "class Square(Rectangle):\n",
    "    def __init__(self, x1, y1, length): # class constructor\n",
    "        self.x1 = x1 # class variable\n",
    "        self.y1 = y1 # class variable\n",
    "        self.x2 = x1 + length # class variable\n",
    "        self.y2 = y1 + length # class variable\n",
    "        super().__init__(self.x1, self.y1, self.x2, self.y2)"
   ]
  },
  {
   "attachments": {},
   "cell_type": "markdown",
   "metadata": {},
   "source": [
    "## Polymorphism"
   ]
  },
  {
   "cell_type": "code",
   "execution_count": 15,
   "metadata": {},
   "outputs": [
    {
     "name": "stdout",
     "output_type": "stream",
     "text": [
      "Area of rectangle is: 60\n",
      "Area of circle is: 153.958\n"
     ]
    }
   ],
   "source": [
    "class Shape:\n",
    "    def __init__(self):  # initializing sides of all shapes to 0\n",
    "        self.sides = 0\n",
    "\n",
    "    def getArea(self): # overridden method\n",
    "        pass\n",
    "\n",
    "\n",
    "class Rectangle(Shape):  # derived from Shape class\n",
    "    # initializer\n",
    "    def __init__(self, width=0, height=0):\n",
    "        self.width = width\n",
    "        self.height = height\n",
    "        self.sides = 4\n",
    "\n",
    "    # method to calculate Area (overriding methods)\n",
    "    def getArea(self):\n",
    "        return (self.width * self.height)\n",
    "\n",
    "\n",
    "class Circle(Shape):  # derived from Shape class\n",
    "    # initializer\n",
    "    def __init__(self, radius=0):\n",
    "        self.radius = radius\n",
    "\n",
    "    # method to calculate Area (overriding methods)\n",
    "    def getArea(self):\n",
    "        return (self.radius * self.radius * 3.142)\n",
    "\n",
    "\n",
    "shapes = [Rectangle(6, 10), Circle(7)]\n",
    "print(\"Area of rectangle is:\", str(shapes[0].getArea()))\n",
    "print(\"Area of circle is:\", str(shapes[1].getArea()))"
   ]
  },
  {
   "attachments": {},
   "cell_type": "markdown",
   "metadata": {},
   "source": [
    "## Overloading operators\n",
    "\n",
    "When the `+` operator is called, it invokes the special function, `__add__`, in Python, but this operator acts differently for `different data types`. "
   ]
  },
  {
   "cell_type": "code",
   "execution_count": 16,
   "metadata": {},
   "outputs": [
    {
     "name": "stdout",
     "output_type": "stream",
     "text": [
      "real of obj3: 5\n",
      "imag of obj3: 12\n",
      "real of obj4: 1\n",
      "imag of obj4: 2\n"
     ]
    }
   ],
   "source": [
    "class Com:\n",
    "    def __init__(self, real=0, imag=0):\n",
    "        self.real = real\n",
    "        self.imag = imag\n",
    "\n",
    "    def __add__(self, other):  # overloading the `+` operator\n",
    "        temp = Com(self.real + other.real, self.imag + other.imag)\n",
    "        return temp\n",
    "\n",
    "    def __sub__(self, other):  # overloading the `-` operator\n",
    "        temp = Com(self.real - other.real, self.imag - other.imag)\n",
    "        return temp\n",
    "\n",
    "\n",
    "obj1 = Com(3, 7)\n",
    "obj2 = Com(2, 5)\n",
    "\n",
    "obj3 = obj1 + obj2\n",
    "obj4 = obj1 - obj2\n",
    "\n",
    "print(\"real of obj3:\", obj3.real)\n",
    "print(\"imag of obj3:\", obj3.imag)\n",
    "print(\"real of obj4:\", obj4.real)\n",
    "print(\"imag of obj4:\", obj4.imag)"
   ]
  },
  {
   "attachments": {},
   "cell_type": "markdown",
   "metadata": {},
   "source": [
    "## Abstract Base Classes\n",
    "\n",
    "Abstract base classes define a set of `methods` and `properties` that a class must `implement` in order to be considered a `duck-type` instance of that class."
   ]
  },
  {
   "cell_type": "code",
   "execution_count": 17,
   "metadata": {},
   "outputs": [
    {
     "name": "stderr",
     "output_type": "stream",
     "text": [
      "Traceback (most recent call last):\n",
      "  File \"<stdin>\", line 21, in <module>\n",
      "TypeError: Can't instantiate abstract class Shape with abstract methods area, perimeter\n"
     ]
    }
   ],
   "source": [
    "%%script python --no-raise-error\n",
    "\n",
    "\n",
    "from abc import ABC, abstractmethod\n",
    "\n",
    "class Shape(ABC):  # Shape is a child class of ABC\n",
    "    @abstractmethod\n",
    "    def area(self):\n",
    "        pass\n",
    "\n",
    "    @abstractmethod\n",
    "    def perimeter(self):\n",
    "        pass\n",
    "\n",
    "\n",
    "class Square(Shape):\n",
    "    def __init__(self, length):\n",
    "        self.length = length\n",
    "\n",
    "\n",
    "# This code will not compile since Shape has abstract methods without method definitions in it\n",
    "shape = Shape()\n",
    "\n",
    "# This code will not generate an error since abastract methods have been defined in the child class, Square\n",
    "square = Square(4)\n"
   ]
  },
  {
   "attachments": {},
   "cell_type": "markdown",
   "metadata": {},
   "source": [
    "## Iterator Classes"
   ]
  },
  {
   "cell_type": "code",
   "execution_count": 18,
   "metadata": {},
   "outputs": [
    {
     "name": "stdout",
     "output_type": "stream",
     "text": [
      "1\n",
      "2\n",
      "3\n"
     ]
    }
   ],
   "source": [
    "class MyRange:\n",
    "    def __init__(self, a, b):\n",
    "        self.a = a\n",
    "        self.b = b\n",
    "\n",
    "    def __iter__(self): # returns the iterator object itself\n",
    "        return self\n",
    "\n",
    "    def __next__(self): # returns the next item in the sequence\n",
    "        if self.a < self.b:\n",
    "            value = self.a\n",
    "            self.a += 1\n",
    "            return value\n",
    "        else:\n",
    "            raise StopIteration\n",
    "\n",
    "for value in MyRange(1, 4):\n",
    "    print(value)"
   ]
  },
  {
   "cell_type": "code",
   "execution_count": 19,
   "metadata": {},
   "outputs": [
    {
     "name": "stdout",
     "output_type": "stream",
     "text": [
      "[2, 4, 6, 8]\n"
     ]
    }
   ],
   "source": [
    "class MyRange:\n",
    "    def __init__(self, n):\n",
    "        self.n = n\n",
    "\n",
    "    def __iter__(self):\n",
    "        return self\n",
    "\n",
    "    def next(self):\n",
    "        evenArray = []\n",
    "        for i in range(1, self.n + 1):\n",
    "            if i % 2 == 0:\n",
    "                evenArray.append(i)\n",
    "        return evenArray\n",
    "\n",
    "myrange = MyRange(8)\n",
    "print (myrange.next())"
   ]
  },
  {
   "cell_type": "code",
   "execution_count": 20,
   "metadata": {},
   "outputs": [
    {
     "name": "stdout",
     "output_type": "stream",
     "text": [
      "[0, 1, 1, 2, 3, 5, 8, 13]\n"
     ]
    }
   ],
   "source": [
    "class MyRange:\n",
    "    def __init__(self, n):\n",
    "        self.n = n\n",
    "\n",
    "    def __iter__(self):\n",
    "        return self\n",
    "\n",
    "    def next(self):\n",
    "        myArray = []\n",
    "        for i in range(self.n):\n",
    "            if i == 0 or i == 1:\n",
    "                myArray.append(i)\n",
    "            else:\n",
    "                myArray.append(myArray[i-2] + myArray[i-1])\n",
    "        return myArray\n",
    "\n",
    "myrange = MyRange(8)\n",
    "print(myrange.next())"
   ]
  },
  {
   "cell_type": "code",
   "execution_count": 21,
   "metadata": {},
   "outputs": [
    {
     "name": "stdout",
     "output_type": "stream",
     "text": [
      "Name: Pongo\n",
      "Sound: Woof Woof\n",
      "Family: Husky\n",
      " \n",
      "Name: Billy\n",
      "Sound: Baaa Baaa\n",
      "Color: White\n"
     ]
    }
   ],
   "source": [
    "class Animal:\n",
    "    def __init__(self, name, sound):\n",
    "        self.name = name\n",
    "        self.sound = sound\n",
    "    \n",
    "    def Animal_details(self):\n",
    "        print(f\"Name: {self.name}\")\n",
    "        print(f\"Sound: {self.sound}\")\n",
    "\n",
    "class Dog(Animal):\n",
    "    def __init__(self, name, sound, family):\n",
    "        super().__init__(name, sound)\n",
    "        self.family = family\n",
    "    \n",
    "    def Animal_details(self):\n",
    "        print(f\"Name: {self.name}\")\n",
    "        print(f\"Sound: {self.sound}\")\n",
    "        print(f\"Family: {self.family}\")\n",
    "\n",
    "class Sheep(Animal):\n",
    "    def __init__(self, name, sound, color):\n",
    "        super().__init__(name, sound)\n",
    "        self.color = color\n",
    "     \n",
    "    def Animal_details(self):\n",
    "        print(f\"Name: {self.name}\")\n",
    "        print(f\"Sound: {self.sound}\")\n",
    "        print(f\"Color: {self.color}\")\n",
    "        \n",
    "d = Dog(\"Pongo\", \"Woof Woof\", \"Husky\")\n",
    "d.Animal_details()\n",
    "print(\" \")\n",
    "s = Sheep(\"Billy\", \"Baaa Baaa\", \"White\")\n",
    "s.Animal_details()"
   ]
  },
  {
   "cell_type": "code",
   "execution_count": 22,
   "metadata": {},
   "outputs": [
    {
     "name": "stdout",
     "output_type": "stream",
     "text": [
      "Asia\n",
      "Europe\n",
      "Africa\n"
     ]
    }
   ],
   "source": [
    "# Override the print_continent method for the derived classes\n",
    "class Country:\n",
    "    def __init__(self, name):\n",
    "        self.name = name\n",
    "    \n",
    "    def print_continent(self):\n",
    "        print('This method should behave differently for each derived class')\n",
    "\n",
    "\n",
    "class India(Country):\n",
    "    def __init__(self):\n",
    "        super().__init__(\"Asia\")\n",
    "    \n",
    "    def print_continent(self):\n",
    "        print(self.name)\n",
    "\n",
    "    \n",
    "class France(Country):\n",
    "    def __init__(self):\n",
    "        super().__init__(\"Europe\")\n",
    "    \n",
    "    def print_continent(self):\n",
    "        print(self.name)\n",
    "    \n",
    "\n",
    "class Nigeria(Country):\n",
    "    def __init__(self):\n",
    "        super().__init__(\"Africa\")\n",
    "    \n",
    "    def print_continent(self):\n",
    "        print(self.name)\n",
    "    \n",
    "obj = India()\n",
    "obj.print_continent()\n",
    "\n",
    "obj1 = France()\n",
    "obj1.print_continent()\n",
    "\n",
    "obj2 = Nigeria()\n",
    "obj2.print_continent()"
   ]
  }
 ],
 "metadata": {
  "kernelspec": {
   "display_name": "Python 3",
   "language": "python",
   "name": "python3"
  },
  "language_info": {
   "codemirror_mode": {
    "name": "ipython",
    "version": 3
   },
   "file_extension": ".py",
   "mimetype": "text/x-python",
   "name": "python",
   "nbconvert_exporter": "python",
   "pygments_lexer": "ipython3",
   "version": "3.11.1"
  },
  "orig_nbformat": 4
 },
 "nbformat": 4,
 "nbformat_minor": 2
}
