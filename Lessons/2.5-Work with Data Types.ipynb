{
 "cells": [
  {
   "cell_type": "markdown",
   "id": "d9af4e01",
   "metadata": {},
   "source": [
    "# Working with Different Data Types \n",
    "\n",
    "Let's observe the **data types** of expressions involving operands of the **same data types**."
   ]
  },
  {
   "cell_type": "code",
   "execution_count": 1,
   "id": "5684e411",
   "metadata": {},
   "outputs": [
    {
     "name": "stdout",
     "output_type": "stream",
     "text": [
      "<class 'int'>\n"
     ]
    }
   ],
   "source": [
    "print(type(78 + 22))"
   ]
  },
  {
   "cell_type": "code",
   "execution_count": 2,
   "id": "bb3905ee",
   "metadata": {},
   "outputs": [
    {
     "name": "stdout",
     "output_type": "stream",
     "text": [
      "<class 'int'>\n"
     ]
    }
   ],
   "source": [
    "print(type(78 + 22 * 5))"
   ]
  },
  {
   "cell_type": "code",
   "execution_count": 3,
   "id": "d99b6cc2",
   "metadata": {},
   "outputs": [
    {
     "name": "stdout",
     "output_type": "stream",
     "text": [
      "<class 'float'>\n"
     ]
    }
   ],
   "source": [
    "print(type(12.5 - 1.0))"
   ]
  },
  {
   "cell_type": "code",
   "execution_count": 4,
   "id": "b346df7e",
   "metadata": {},
   "outputs": [
    {
     "name": "stdout",
     "output_type": "stream",
     "text": [
      "<class 'complex'>\n"
     ]
    }
   ],
   "source": [
    "print(type(2 + 3j + 1 - 2j))"
   ]
  },
  {
   "cell_type": "markdown",
   "id": "23a78f31",
   "metadata": {},
   "source": [
    "We can see that binary Arithmetic operators with *both* operands being of similar data types result in values with the same data types of the operands.\n",
    "\n",
    "Except for the **division operator**."
   ]
  },
  {
   "cell_type": "code",
   "execution_count": 5,
   "id": "6f3e66f2",
   "metadata": {},
   "outputs": [
    {
     "name": "stdout",
     "output_type": "stream",
     "text": [
      "<class 'float'>\n"
     ]
    }
   ],
   "source": [
    "print(type(2 / 2))"
   ]
  },
  {
   "cell_type": "code",
   "execution_count": 6,
   "id": "f3925a0f",
   "metadata": {},
   "outputs": [
    {
     "name": "stdout",
     "output_type": "stream",
     "text": [
      "<class 'float'>\n"
     ]
    }
   ],
   "source": [
    "print(type(2.0 / 2.0))"
   ]
  },
  {
   "cell_type": "markdown",
   "id": "d80f9071",
   "metadata": {},
   "source": [
    "We can see that whether the operands were either `int` or `float` the results were always `float`. This makes sense since the result of a division can have *decimal* points.\n",
    "\n",
    "Now, let's try dividing complex numbers."
   ]
  },
  {
   "cell_type": "code",
   "execution_count": 7,
   "id": "28a1b524",
   "metadata": {},
   "outputs": [
    {
     "name": "stdout",
     "output_type": "stream",
     "text": [
      "(2+0j)\n",
      "<class 'complex'>\n"
     ]
    }
   ],
   "source": [
    "c1 = 4 + 4j\n",
    "c2 = 2 + 2j\n",
    "print(c1 / c2)\n",
    "print(type(c1 / c2))"
   ]
  },
  {
   "cell_type": "markdown",
   "id": "5cd9e754",
   "metadata": {},
   "source": [
    "This, again, made sense since a division of two complex numbers can result in another complex number."
   ]
  },
  {
   "cell_type": "markdown",
   "id": "98495f7a",
   "metadata": {},
   "source": [
    "## Polymorphic Operators\n",
    "\n",
    "### Arithmetic Addition & String Concatenation\n",
    "\n",
    "The `+` symbol performs *Arithmetic Addition* when both operands are *numbers*."
   ]
  },
  {
   "cell_type": "code",
   "execution_count": 8,
   "id": "c562512c",
   "metadata": {},
   "outputs": [
    {
     "name": "stdout",
     "output_type": "stream",
     "text": [
      "4\n",
      "9.8\n"
     ]
    }
   ],
   "source": [
    "print(2 + 2)\n",
    "print(2.0 + 3.5 + 4.3)"
   ]
  },
  {
   "cell_type": "markdown",
   "id": "086abd90",
   "metadata": {},
   "source": [
    "The `+` symbol performs *String Concatenation* when both operands are *str*."
   ]
  },
  {
   "cell_type": "code",
   "execution_count": 9,
   "id": "f8310f9e",
   "metadata": {},
   "outputs": [
    {
     "name": "stdout",
     "output_type": "stream",
     "text": [
      "123\n"
     ]
    }
   ],
   "source": [
    "s = \"1\" + \"2\" + \"3\"\n",
    "print(s)"
   ]
  },
  {
   "cell_type": "markdown",
   "id": "30856768",
   "metadata": {},
   "source": [
    "Mixing `str` and `numbers` as operands of `+` results in an **error** since the operator does *not support* such a data type combination."
   ]
  },
  {
   "cell_type": "code",
   "execution_count": 10,
   "id": "00c27cad",
   "metadata": {},
   "outputs": [
    {
     "ename": "TypeError",
     "evalue": "can only concatenate str (not \"int\") to str",
     "output_type": "error",
     "traceback": [
      "\u001b[1;31m---------------------------------------------------------------------------\u001b[0m",
      "\u001b[1;31mTypeError\u001b[0m                                 Traceback (most recent call last)",
      "Cell \u001b[1;32mIn[10], line 2\u001b[0m\n\u001b[0;32m      1\u001b[0m x \u001b[38;5;241m=\u001b[39m \u001b[38;5;241m32\u001b[39m\n\u001b[1;32m----> 2\u001b[0m \u001b[38;5;28mprint\u001b[39m(\u001b[38;5;124;43m\"\u001b[39;49m\u001b[38;5;124;43mThe number is \u001b[39;49m\u001b[38;5;124;43m\"\u001b[39;49m\u001b[43m \u001b[49m\u001b[38;5;241;43m+\u001b[39;49m\u001b[43m \u001b[49m\u001b[43mx\u001b[49m)\n",
      "\u001b[1;31mTypeError\u001b[0m: can only concatenate str (not \"int\") to str"
     ]
    }
   ],
   "source": [
    "x = 32\n",
    "print(\"The number is \" + x)"
   ]
  },
  {
   "cell_type": "markdown",
   "id": "9459ee9e",
   "metadata": {},
   "source": [
    "### Arithmetic Multiplication & String Multiplication\n",
    "\n",
    "The `*` symbol performs *Arithmetic Multiplication* when both operands are *numbers*."
   ]
  },
  {
   "cell_type": "code",
   "execution_count": 11,
   "id": "45c51d2e",
   "metadata": {},
   "outputs": [
    {
     "name": "stdout",
     "output_type": "stream",
     "text": [
      "-1.0\n",
      "1000\n"
     ]
    }
   ],
   "source": [
    "print(2 * -0.5)\n",
    "print(10 * 10 * 10)"
   ]
  },
  {
   "cell_type": "markdown",
   "id": "b7ceda04",
   "metadata": {},
   "source": [
    "The `*` symbol performs *String Multiplication* when one operand is `str` while the other is `int`."
   ]
  },
  {
   "cell_type": "code",
   "execution_count": 12,
   "id": "6c5c018e",
   "metadata": {},
   "outputs": [
    {
     "name": "stdout",
     "output_type": "stream",
     "text": [
      "(^__^)(^__^)(^__^)\n",
      "(*__*)(*__*)(*__*)(*__*)(*__*)(*__*)(*__*)(*__*)(*__*)(*__*)\n"
     ]
    }
   ],
   "source": [
    "print(\"(^__^)\" * 3)\n",
    "print(10 * \"(*__*)\")"
   ]
  },
  {
   "cell_type": "markdown",
   "id": "2a6ca4e1",
   "metadata": {},
   "source": [
    "In *String Multipication*, the *number* must be `int` only."
   ]
  },
  {
   "cell_type": "code",
   "execution_count": 13,
   "id": "2bed42ad",
   "metadata": {},
   "outputs": [
    {
     "ename": "TypeError",
     "evalue": "can't multiply sequence by non-int of type 'float'",
     "output_type": "error",
     "traceback": [
      "\u001b[1;31m---------------------------------------------------------------------------\u001b[0m",
      "\u001b[1;31mTypeError\u001b[0m                                 Traceback (most recent call last)",
      "Cell \u001b[1;32mIn[13], line 1\u001b[0m\n\u001b[1;32m----> 1\u001b[0m \u001b[38;5;28mprint\u001b[39m(\u001b[38;5;124;43m\"\u001b[39;49m\u001b[38;5;124;43m(^__^)\u001b[39;49m\u001b[38;5;124;43m\"\u001b[39;49m\u001b[43m \u001b[49m\u001b[38;5;241;43m*\u001b[39;49m\u001b[43m \u001b[49m\u001b[38;5;241;43m3.5\u001b[39;49m)\n",
      "\u001b[1;31mTypeError\u001b[0m: can't multiply sequence by non-int of type 'float'"
     ]
    }
   ],
   "source": [
    "print(\"(^__^)\" * 3.5)"
   ]
  },
  {
   "cell_type": "markdown",
   "id": "8785b2bd",
   "metadata": {},
   "source": [
    "## Implicit Data Type Conversion\n",
    " * Occurs automatically\n",
    " * **Implicit Data Type Conversion** always promote data type capable of holding *less information* to data type capable of holding *more information*."
   ]
  },
  {
   "cell_type": "code",
   "execution_count": 14,
   "id": "f4b94f58",
   "metadata": {},
   "outputs": [
    {
     "name": "stdout",
     "output_type": "stream",
     "text": [
      "<class 'float'>\n"
     ]
    }
   ],
   "source": [
    "print(type(32 * 5.0))"
   ]
  },
  {
   "cell_type": "markdown",
   "id": "ecc54d81",
   "metadata": {},
   "source": [
    "In the above statement, the `int` value of 32 was **converted** to `float` and then **multiplied** with 5.0."
   ]
  },
  {
   "cell_type": "code",
   "execution_count": 15,
   "id": "c6b9606b",
   "metadata": {},
   "outputs": [
    {
     "name": "stdout",
     "output_type": "stream",
     "text": [
      "<class 'complex'>\n",
      "<class 'complex'>\n"
     ]
    }
   ],
   "source": [
    "print(type(5 * (3 + 2j)))\n",
    "print(type((1 + 1j) + -0.5))"
   ]
  },
  {
   "cell_type": "markdown",
   "id": "aa72e283",
   "metadata": {},
   "source": [
    "In the code above, both `int` and `float` were **converted** to `complex` before being used as operands in their *respective* statements."
   ]
  },
  {
   "cell_type": "markdown",
   "id": "1b60ca2d",
   "metadata": {},
   "source": [
    "## Explicit Data Type Conversion\n",
    "\n",
    "We use *typecasting functions* to convert data to the desired data types.\n",
    "\n",
    "Typecasting functions include (but not limited to):\n",
    "\n",
    "- int( )\n",
    "- float( )\n",
    "- complex( )\n",
    "- str()\n",
    "- bool ( )\n",
    "\n",
    "**An example situation in which explicit data type conversion is needed.**"
   ]
  },
  {
   "cell_type": "code",
   "execution_count": 16,
   "id": "ff56e3b9",
   "metadata": {},
   "outputs": [
    {
     "name": "stdout",
     "output_type": "stream",
     "text": [
      "Please enter n :2\n",
      "n = 2 -> n^10 = 1024.0\n"
     ]
    }
   ],
   "source": [
    "# This program calculates n^10, where 1 is number entered by the user.\n",
    "n = input(\"Please enter n :\")\n",
    "result = float(n) ** 10\n",
    "# Show the output as n = [the input] -> n^10 = [the result]\n",
    "print(\"n =\", n, \"-> n^10 =\", str(result))"
   ]
  },
  {
   "cell_type": "markdown",
   "id": "223dd0ac",
   "metadata": {},
   "source": [
    "### `int()`"
   ]
  },
  {
   "cell_type": "code",
   "execution_count": 17,
   "id": "36494967",
   "metadata": {},
   "outputs": [
    {
     "name": "stdout",
     "output_type": "stream",
     "text": [
      "1\n",
      "12\n",
      "1\n",
      "0\n"
     ]
    }
   ],
   "source": [
    "print(int(1.8))\n",
    "# print(int(2 + 2j))\n",
    "print(int(\"12\"))\n",
    "# print(int(\"12.5\"))\n",
    "# print(int(\"Hello\"))\n",
    "print(int(True))\n",
    "print(int(False))"
   ]
  },
  {
   "cell_type": "markdown",
   "id": "22d46fbd",
   "metadata": {},
   "source": [
    "### `float()`"
   ]
  },
  {
   "cell_type": "code",
   "execution_count": 18,
   "id": "844eb48c",
   "metadata": {},
   "outputs": [
    {
     "name": "stdout",
     "output_type": "stream",
     "text": [
      "1.0\n",
      "12.0\n",
      "12.5\n",
      "1.0\n",
      "0.0\n"
     ]
    }
   ],
   "source": [
    "print(float(1))\n",
    "# print(float(2 + 2j))\n",
    "print(float(\"12\"))\n",
    "print(float(\"12.5\"))\n",
    "# print(float(\"Hello\"))\n",
    "print(float(True))\n",
    "print(float(False))"
   ]
  },
  {
   "cell_type": "markdown",
   "id": "c2a4e2fe",
   "metadata": {},
   "source": [
    "### `complex()`"
   ]
  },
  {
   "cell_type": "code",
   "execution_count": 19,
   "id": "57e7dab4",
   "metadata": {},
   "outputs": [
    {
     "name": "stdout",
     "output_type": "stream",
     "text": [
      "(1+0j)\n",
      "(1.8+0j)\n",
      "(12+0j)\n",
      "(12.5+0j)\n",
      "(1+0j)\n",
      "0j\n"
     ]
    }
   ],
   "source": [
    "print(complex(1))\n",
    "print(complex(1.8))\n",
    "print(complex(\"12\"))\n",
    "print(complex(\"12.5\"))\n",
    "# print(complex(\"Hello\"))\n",
    "print(complex(True))\n",
    "print(complex(False))"
   ]
  },
  {
   "cell_type": "markdown",
   "id": "4a27aaff",
   "metadata": {},
   "source": [
    "To create a new complex number with `complex()`, we can use `complex(re, im)` (called a *constructor function*)."
   ]
  },
  {
   "cell_type": "code",
   "execution_count": 20,
   "id": "d233853c",
   "metadata": {},
   "outputs": [
    {
     "name": "stdout",
     "output_type": "stream",
     "text": [
      "(1+1j)\n",
      "(1.5-1j)\n",
      "(1+0j)\n",
      "1j\n"
     ]
    }
   ],
   "source": [
    "print(complex(1, 1))\n",
    "print(complex(1.5, -1.0))\n",
    "print(complex(1, 0))\n",
    "print(complex(0, 1))"
   ]
  },
  {
   "cell_type": "markdown",
   "id": "3fd1d6c0",
   "metadata": {},
   "source": [
    "### `str()`"
   ]
  },
  {
   "cell_type": "code",
   "execution_count": 21,
   "id": "f3f0860a",
   "metadata": {},
   "outputs": [
    {
     "name": "stdout",
     "output_type": "stream",
     "text": [
      "1\n",
      "1.8\n",
      "(2+2j)\n",
      "True\n",
      "False\n"
     ]
    }
   ],
   "source": [
    "print(str(1))\n",
    "print(str(1.8))\n",
    "print(str(2 + 2j))\n",
    "print(str(True))\n",
    "print(str(False))"
   ]
  },
  {
   "cell_type": "markdown",
   "id": "6c9a64fc",
   "metadata": {},
   "source": [
    "### `bool()`"
   ]
  },
  {
   "cell_type": "code",
   "execution_count": 22,
   "id": "687f362e",
   "metadata": {},
   "outputs": [
    {
     "name": "stdout",
     "output_type": "stream",
     "text": [
      "True\n",
      "True\n",
      "True\n",
      "True\n",
      "True\n",
      "True\n",
      "True\n",
      "----------\n",
      "False\n",
      "False\n",
      "False\n",
      "False\n",
      "False\n"
     ]
    }
   ],
   "source": [
    "print(bool(1))\n",
    "print(bool(1.8))\n",
    "print(bool(\"12\"))\n",
    "print(bool(\"12.5\"))\n",
    "print(bool(\"Hello\"))\n",
    "print(bool(\"False\"))\n",
    "print(bool(True))\n",
    "print(\"-\" * 10)\n",
    "print(bool(0))\n",
    "print(bool(0.0))\n",
    "print(bool(0 + 0j))\n",
    "print(bool(\"\"))\n",
    "print(bool(False))"
   ]
  }
 ],
 "metadata": {
  "kernelspec": {
   "display_name": "Python 3 (ipykernel)",
   "language": "python",
   "name": "python3"
  },
  "language_info": {
   "codemirror_mode": {
    "name": "ipython",
    "version": 3
   },
   "file_extension": ".py",
   "mimetype": "text/x-python",
   "name": "python",
   "nbconvert_exporter": "python",
   "pygments_lexer": "ipython3",
   "version": "3.10.4"
  }
 },
 "nbformat": 4,
 "nbformat_minor": 5
}
