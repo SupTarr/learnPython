{
 "cells": [
  {
   "attachments": {},
   "cell_type": "markdown",
   "metadata": {},
   "source": [
    "# Asynchronous Programming\n",
    "\n",
    "Asynchronous programming allows you to write `concurrent` code that runs in a __single thread__."
   ]
  },
  {
   "attachments": {},
   "cell_type": "markdown",
   "metadata": {},
   "source": [
    "## Write an Asynchronous Code\n",
    "\n",
    "To write asynchronous code in python, import the library using `import asyncio`.\n",
    "\n",
    "### Components\n",
    "`Asyncio` has 3 main components:\n",
    "\n",
    "1. coroutines\n",
    "2. event loop\n",
    "3. future"
   ]
  },
  {
   "attachments": {},
   "cell_type": "markdown",
   "metadata": {},
   "source": [
    "#### Coroutine\n",
    "\n",
    "A coroutine is the `result` of an asynchronous function which can be declared using the keyword `async` before def.\n",
    "\n",
    "```python\n",
    "async def my_function(argument):\n",
    "    pass\n",
    "\n",
    "result = await my_function(argument)\n",
    "```"
   ]
  },
  {
   "attachments": {},
   "cell_type": "markdown",
   "metadata": {},
   "source": [
    "#### Event Loop\n",
    "\n",
    "The event loop is the object which `executes` our asynchronous code and decides how to switch between async functions. After creating an event loop we can add multiple coroutines to it; these coroutines will all be running concurrently when `run_until_complete` or `run_forever` is called.\n",
    "\n",
    "```python\n",
    "loop = asyncio.new_event_loop()  # create loop\n",
    "future = loop.create_task(my_coroutine) # add coroutine to the loop\n",
    "loop.run_until_complete(future) # add coroutine to the loop concurrently\n",
    "loop.close() # close the loop\n",
    "```"
   ]
  },
  {
   "attachments": {},
   "cell_type": "markdown",
   "metadata": {},
   "source": [
    "#### Future\n",
    "\n",
    "A future is an object that works as a placeholder for the `output` of an asynchronous function, and it gives us information about the `function state`. A future is created when we add a `coroutine` to an event loop.\n",
    "\n",
    "```python\n",
    "future = loop.create_task(my_coroutine)\n",
    "```"
   ]
  },
  {
   "attachments": {},
   "cell_type": "markdown",
   "metadata": {},
   "source": [
    "## Execute Single and Multiple Tasks\n",
    "\n",
    "In asynchronous programming, the execution of a function is usually `non-blocking`. In other words, each time you call a function it returns **immediately**. However, that function does not necessarily get executed right away. Instead, there is usually a mechanism (called the “`scheduler`”) which is responsible for the **future execution** of the function.\n",
    "\n",
    "The problem with asynchronous programming is that a program may end before any asynchronous function starts. A common solution for this is for asynchronous functions to return “`futures`” or “`promises`”."
   ]
  },
  {
   "cell_type": "code",
   "execution_count": 1,
   "metadata": {},
   "outputs": [],
   "source": [
    "import asyncio\n",
    "async def functionName():\n",
    "    await asyncio.sleep(1) \n",
    "    return\n"
   ]
  },
  {
   "attachments": {},
   "cell_type": "markdown",
   "metadata": {},
   "source": [
    "### Execute a Single Task\n",
    "\n",
    "1. Create an event loop\n",
    "2. Run async function and wait for completion\n",
    "3. Close the loop"
   ]
  },
  {
   "cell_type": "code",
   "execution_count": 2,
   "metadata": {},
   "outputs": [
    {
     "name": "stdout",
     "output_type": "stream",
     "text": [
      "Square 1\n",
      "End square 1\n",
      "1\n"
     ]
    }
   ],
   "source": [
    "import nest_asyncio\n",
    "import asyncio\n",
    "\n",
    "nest_asyncio.apply()\n",
    "\n",
    "async def square(x):\n",
    "    print('Square', x)\n",
    "    await asyncio.sleep(1)\n",
    "    print('End square', x)\n",
    "    return x * x\n",
    "\n",
    "# Create event loop\n",
    "loop = asyncio.get_event_loop()\n",
    "\n",
    "# Run async function and wait for completion\n",
    "results = loop.run_until_complete(square(1))\n",
    "print(results)"
   ]
  },
  {
   "attachments": {},
   "cell_type": "markdown",
   "metadata": {},
   "source": [
    "### Execute Multiple Tasks"
   ]
  },
  {
   "cell_type": "code",
   "execution_count": 3,
   "metadata": {},
   "outputs": [
    {
     "name": "stdout",
     "output_type": "stream",
     "text": [
      "Square 1\n",
      "Square 2\n",
      "Square 3\n",
      "End square 1\n",
      "End square 2\n",
      "End square 3\n",
      "[1, 4, 9]\n"
     ]
    }
   ],
   "source": [
    "import asyncio\n",
    "\n",
    "async def square(x):\n",
    "    print('Square', x)\n",
    "    await asyncio.sleep(1)\n",
    "    print('End square', x)\n",
    "    return x * x\n",
    "\n",
    "# Create event loop\n",
    "loop = asyncio.get_event_loop()\n",
    "\n",
    "# Run async function and wait for completion\n",
    "results = loop.run_until_complete(asyncio.gather(\n",
    "    square(1),\n",
    "    square(2),\n",
    "    square(3)\n",
    "))\n",
    "\n",
    "print(results)"
   ]
  },
  {
   "cell_type": "code",
   "execution_count": 4,
   "metadata": {},
   "outputs": [
    {
     "name": "stdout",
     "output_type": "stream",
     "text": [
      "Square 1\n",
      "Square 2\n",
      "Square 3\n",
      "End square 1\n",
      "End square 2\n",
      "End square 3\n",
      "Result: 1\n",
      "Result: 4\n",
      "Result: 9\n"
     ]
    }
   ],
   "source": [
    "import asyncio\n",
    "\n",
    "async def compute_square(x):\n",
    "    await asyncio.sleep(1)\n",
    "    return x * x\n",
    "\n",
    "async def square(x):\n",
    "    print('Square', x)\n",
    "    res = await compute_square(x)\n",
    "    print('End square', x)\n",
    "    return res\n",
    "\n",
    "# Create event loop\n",
    "loop = asyncio.get_event_loop()\n",
    "\n",
    "async def when_done(tasks):\n",
    "    for res in asyncio.as_completed(tasks):\n",
    "        print('Result:', await res)\n",
    "\n",
    "loop.run_until_complete(when_done([\n",
    "    square(1),\n",
    "    square(2),\n",
    "    square(3)\n",
    "]))"
   ]
  }
 ],
 "metadata": {
  "kernelspec": {
   "display_name": "Python 3",
   "language": "python",
   "name": "python3"
  },
  "language_info": {
   "codemirror_mode": {
    "name": "ipython",
    "version": 3
   },
   "file_extension": ".py",
   "mimetype": "text/x-python",
   "name": "python",
   "nbconvert_exporter": "python",
   "pygments_lexer": "ipython3",
   "version": "3.11.1"
  },
  "orig_nbformat": 4
 },
 "nbformat": 4,
 "nbformat_minor": 2
}
