{
 "cells": [
  {
   "attachments": {},
   "cell_type": "markdown",
   "metadata": {},
   "source": [
    "# Asynchronous Programming\n",
    "\n",
    "Asynchronous programming allows you to write `concurrent` code that runs in a __single thread__."
   ]
  },
  {
   "attachments": {},
   "cell_type": "markdown",
   "metadata": {},
   "source": [
    "## Write an Asynchronous Code\n",
    "\n",
    "To write asynchronous code in python, import the library using `import asyncio`.\n",
    "\n",
    "### Components\n",
    "`Asyncio` has 3 main components:\n",
    "\n",
    "1. coroutines\n",
    "2. event loop\n",
    "3. future"
   ]
  },
  {
   "attachments": {},
   "cell_type": "markdown",
   "metadata": {},
   "source": [
    "#### Coroutine\n",
    "\n",
    "A coroutine is the `result` of an asynchronous function which can be declared using the keyword `async` before def.\n",
    "\n",
    "```python\n",
    "async def my_function(argument):\n",
    "    pass\n",
    "\n",
    "result = await my_function(argument)\n",
    "```"
   ]
  },
  {
   "attachments": {},
   "cell_type": "markdown",
   "metadata": {},
   "source": [
    "#### Event Loop\n",
    "\n",
    "The event loop is the object which `executes` our asynchronous code and decides how to switch between async functions. After creating an event loop we can add multiple coroutines to it; these coroutines will all be running concurrently when `run_until_complete` or `run_forever` is called.\n",
    "\n",
    "```python\n",
    "loop = asyncio.new_event_loop()  # create loop\n",
    "future = loop.create_task(my_coroutine) # add coroutine to the loop\n",
    "loop.run_until_complete(future) # add coroutine to the loop concurrently\n",
    "loop.close() # close the loop\n",
    "```"
   ]
  },
  {
   "attachments": {},
   "cell_type": "markdown",
   "metadata": {},
   "source": [
    "#### Future\n",
    "\n",
    "A future is an object that works as a placeholder for the `output` of an asynchronous function, and it gives us information about the `function state`. A future is created when we add a `coroutine` to an event loop.\n",
    "\n",
    "```python\n",
    "future = loop.create_task(my_coroutine)\n",
    "```"
   ]
  }
 ],
 "metadata": {
  "language_info": {
   "name": "python"
  },
  "orig_nbformat": 4
 },
 "nbformat": 4,
 "nbformat_minor": 2
}
