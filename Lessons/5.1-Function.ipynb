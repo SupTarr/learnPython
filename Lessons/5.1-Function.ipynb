{
 "cells": [
  {
   "cell_type": "markdown",
   "metadata": {},
   "source": [
    "# Function\n",
    "\n",
    "## Python's built-in functions\n",
    "<img src=\"built-in functions.png\" alt=\"Markdown icon\" style=\"height: 500px\" />"
   ]
  },
  {
   "cell_type": "markdown",
   "metadata": {},
   "source": [
    "### How to use these functions:\n",
    "\n",
    "We must know:\n",
    "1. What arguments it takes.\n",
    "2. What value it returns."
   ]
  },
  {
   "cell_type": "code",
   "execution_count": 1,
   "metadata": {},
   "outputs": [
    {
     "name": "stdout",
     "output_type": "stream",
     "text": [
      "10\n"
     ]
    }
   ],
   "source": [
    "a = abs(-10)\n",
    "print(a)"
   ]
  },
  {
   "cell_type": "markdown",
   "metadata": {},
   "source": [
    "## Benefits of functions\n",
    "\n",
    "To increase :\n",
    "- Modularity\n",
    "- Readability\n",
    "- Reusability\n",
    "- Maintainability"
   ]
  },
  {
   "cell_type": "markdown",
   "metadata": {},
   "source": [
    "## Creating a user-defined function\n",
    "\n",
    "    def foo(n, a):\n",
    "        if n == 0: return 1\n",
    "        return a ** n\n",
    "        \n",
    "### Components:\n",
    "- `def` keyword is to **define a function**\n",
    "- `foo` is **function name**\n",
    "- `n, a` are (optional) **parameter names**\n",
    "- `return` (optional) statement will return the output of the function if any; otherwise returns `None` object."
   ]
  },
  {
   "cell_type": "code",
   "execution_count": 2,
   "metadata": {},
   "outputs": [
    {
     "name": "stdout",
     "output_type": "stream",
     "text": [
      "<class 'function'>\n",
      "<function foo at 0x0000018B4B781990>\n"
     ]
    }
   ],
   "source": [
    "def foo():\n",
    "    print('Hello')\n",
    "    \n",
    "print(type(foo))\n",
    "print(foo)"
   ]
  },
  {
   "cell_type": "markdown",
   "metadata": {},
   "source": [
    "### Calling functions"
   ]
  },
  {
   "cell_type": "code",
   "execution_count": 3,
   "metadata": {},
   "outputs": [
    {
     "name": "stdout",
     "output_type": "stream",
     "text": [
      "Hello\n"
     ]
    }
   ],
   "source": [
    "foo()"
   ]
  },
  {
   "cell_type": "markdown",
   "metadata": {},
   "source": [
    "### Parameters & Arguments\n",
    "\n",
    "- A parameter is the variable defined in the function definition (listed inside the Parenthesis after function name).\n",
    "- An argument is the actual value passed to the function when it is called."
   ]
  },
  {
   "cell_type": "code",
   "execution_count": 4,
   "metadata": {},
   "outputs": [],
   "source": [
    "def foo(name):\n",
    "    print(f\"Hi, my name is {name}\")"
   ]
  },
  {
   "cell_type": "code",
   "execution_count": 5,
   "metadata": {},
   "outputs": [
    {
     "name": "stdout",
     "output_type": "stream",
     "text": [
      "Hi, my name is Supakrit\n"
     ]
    }
   ],
   "source": [
    "foo('Supakrit')"
   ]
  },
  {
   "cell_type": "code",
   "execution_count": 6,
   "metadata": {},
   "outputs": [],
   "source": [
    "def foo(first_name, nickname):\n",
    "    print(f\"Hi, I am {first_name}: you can call me {nickname}\")"
   ]
  },
  {
   "cell_type": "code",
   "execution_count": 7,
   "metadata": {},
   "outputs": [
    {
     "name": "stdout",
     "output_type": "stream",
     "text": [
      "Hi, I am Supakrit: you can call me Tata\n"
     ]
    }
   ],
   "source": [
    "foo('Supakrit', 'Tata')"
   ]
  },
  {
   "cell_type": "code",
   "execution_count": 8,
   "metadata": {},
   "outputs": [
    {
     "name": "stderr",
     "output_type": "stream",
     "text": [
      "Traceback (most recent call last):\n",
      "  File \"<stdin>\", line 1, in <module>\n",
      "NameError: name 'foo' is not defined\n"
     ]
    }
   ],
   "source": [
    "%%script python --no-raise-error\n",
    "foo('Supakrit')"
   ]
  },
  {
   "cell_type": "markdown",
   "metadata": {},
   "source": [
    "### Keyword arguments"
   ]
  },
  {
   "cell_type": "code",
   "execution_count": 9,
   "metadata": {},
   "outputs": [
    {
     "name": "stdout",
     "output_type": "stream",
     "text": [
      "Hi, I am Supakrit: you can call me Tata\n"
     ]
    }
   ],
   "source": [
    "foo(nickname = 'Tata', first_name = 'Supakrit')"
   ]
  },
  {
   "cell_type": "markdown",
   "metadata": {},
   "source": [
    "### Default arguments"
   ]
  },
  {
   "cell_type": "code",
   "execution_count": 10,
   "metadata": {},
   "outputs": [],
   "source": [
    "def foo(first_name, nickname = 'Foo'):\n",
    "    print(f\"Hi, I am {first_name}: you can call me {nickname}\")"
   ]
  },
  {
   "cell_type": "code",
   "execution_count": 11,
   "metadata": {},
   "outputs": [
    {
     "name": "stdout",
     "output_type": "stream",
     "text": [
      "Hi, I am Supakrit: you can call me Foo\n"
     ]
    }
   ],
   "source": [
    "foo('Supakrit')"
   ]
  },
  {
   "cell_type": "markdown",
   "metadata": {},
   "source": [
    "### Arbitrary arguments (`*args`)\n",
    "\n",
    "`*args` allows you to pass a variable number of arguments to a function. The function will receive a *tuple* of arguments."
   ]
  },
  {
   "cell_type": "code",
   "execution_count": 12,
   "metadata": {},
   "outputs": [],
   "source": [
    "def my_multiply(a, b):\n",
    "    return a * b"
   ]
  },
  {
   "cell_type": "code",
   "execution_count": 13,
   "metadata": {},
   "outputs": [
    {
     "data": {
      "text/plain": [
       "6"
      ]
     },
     "execution_count": 13,
     "metadata": {},
     "output_type": "execute_result"
    }
   ],
   "source": [
    "my_multiply(2, 3)"
   ]
  },
  {
   "cell_type": "code",
   "execution_count": 14,
   "metadata": {},
   "outputs": [],
   "source": [
    "def my_multiply(*args):\n",
    "    result = 1\n",
    "    for n in args:\n",
    "        result *= n\n",
    "    return result"
   ]
  },
  {
   "cell_type": "code",
   "execution_count": 15,
   "metadata": {},
   "outputs": [
    {
     "data": {
      "text/plain": [
       "720"
      ]
     },
     "execution_count": 15,
     "metadata": {},
     "output_type": "execute_result"
    }
   ],
   "source": [
    "my_multiply(2, 3, 4, 5, 6)"
   ]
  },
  {
   "cell_type": "code",
   "execution_count": 16,
   "metadata": {},
   "outputs": [],
   "source": [
    "def avg(n, *others):\n",
    "    return (n + sum(others)) / (1 + len(others))"
   ]
  },
  {
   "cell_type": "code",
   "execution_count": 17,
   "metadata": {},
   "outputs": [
    {
     "data": {
      "text/plain": [
       "4.5"
      ]
     },
     "execution_count": 17,
     "metadata": {},
     "output_type": "execute_result"
    }
   ],
   "source": [
    "avg(3, 4, 5, 6)"
   ]
  },
  {
   "cell_type": "markdown",
   "metadata": {},
   "source": [
    "### Arbitrary keyword arguments (`**kwargs`)\n",
    "\n",
    "`**kwargs` allows you to pass a variable number of keyword arguments to a function.\n",
    "\n",
    "The function will receive a *dictionary* of arguments.\n"
   ]
  },
  {
   "cell_type": "code",
   "execution_count": 18,
   "metadata": {},
   "outputs": [],
   "source": [
    "def greeting(fname, **kwargs):\n",
    "    title = lname = nname = ''\n",
    "    for k, v in kwargs.items():\n",
    "        if k == 'gender' and v == 'male': title = 'Mr.'\n",
    "        elif k == 'gender' and v == 'female': title = 'Ms.'\n",
    "        \n",
    "        if k == 'last_name': lname = v\n",
    "            \n",
    "        if k == 'nick_name': nname = ' (' + v + ')'\n",
    "            \n",
    "    return 'Hello ' + title + fname + ' ' + lname + nname"
   ]
  },
  {
   "cell_type": "code",
   "execution_count": 19,
   "metadata": {},
   "outputs": [
    {
     "data": {
      "text/plain": [
       "'Hello Supakrit '"
      ]
     },
     "execution_count": 19,
     "metadata": {},
     "output_type": "execute_result"
    }
   ],
   "source": [
    "greeting('Supakrit')"
   ]
  },
  {
   "cell_type": "code",
   "execution_count": 20,
   "metadata": {},
   "outputs": [
    {
     "data": {
      "text/plain": [
       "'Hello Supakrit Chuchatwannakul (Tata)'"
      ]
     },
     "execution_count": 20,
     "metadata": {},
     "output_type": "execute_result"
    }
   ],
   "source": [
    "greeting('Supakrit', last_name = 'Chuchatwannakul', nick_name = 'Tata')"
   ]
  },
  {
   "cell_type": "code",
   "execution_count": 21,
   "metadata": {},
   "outputs": [
    {
     "data": {
      "text/plain": [
       "'Hello Mr.Supakrit Chuchatwannakul (Tata)'"
      ]
     },
     "execution_count": 21,
     "metadata": {},
     "output_type": "execute_result"
    }
   ],
   "source": [
    "greeting('Supakrit', last_name = 'Chuchatwannakul', nick_name = 'Tata', gender = 'male')"
   ]
  },
  {
   "cell_type": "markdown",
   "metadata": {},
   "source": [
    "### Multiple return values"
   ]
  },
  {
   "cell_type": "code",
   "execution_count": 22,
   "metadata": {},
   "outputs": [],
   "source": [
    "import math\n",
    "\n",
    "def compute_circle(r):\n",
    "    area = math.pi * r * r\n",
    "    cir = 2 * math.pi * r\n",
    "    return area, cir"
   ]
  },
  {
   "cell_type": "code",
   "execution_count": 23,
   "metadata": {},
   "outputs": [
    {
     "name": "stdout",
     "output_type": "stream",
     "text": [
      "(3.141592653589793, 6.283185307179586)\n",
      "<class 'tuple'>\n"
     ]
    }
   ],
   "source": [
    "print(compute_circle(1))\n",
    "print(type(compute_circle(1)))"
   ]
  },
  {
   "cell_type": "code",
   "execution_count": 24,
   "metadata": {},
   "outputs": [
    {
     "name": "stdout",
     "output_type": "stream",
     "text": [
      "Area = 12.566370614359172\n",
      "Circumference = 12.566370614359172\n"
     ]
    }
   ],
   "source": [
    "area, circum = compute_circle(2)\n",
    "print('Area =', area)\n",
    "print('Circumference =', circum)"
   ]
  },
  {
   "cell_type": "markdown",
   "metadata": {},
   "source": [
    "### Scope of variables in function"
   ]
  },
  {
   "cell_type": "code",
   "execution_count": 25,
   "metadata": {},
   "outputs": [
    {
     "name": "stdout",
     "output_type": "stream",
     "text": [
      "0 0 1\n",
      "in function 3.141592653589793 6.283185307179586\n",
      "a, b 3.141592653589793 6.283185307179586\n",
      "0 0 1\n"
     ]
    }
   ],
   "source": [
    "def compute_circle(r):\n",
    "    # Local variable\n",
    "    area = math.pi * r * r\n",
    "    cir = 2 * math.pi * r\n",
    "    print('in function', area, cir)\n",
    "    return area, cir\n",
    "\n",
    "# Global variable\n",
    "area = 0\n",
    "cir = 0\n",
    "r = 1\n",
    "print(area, cir, r)\n",
    "\n",
    "a, b = compute_circle(r)\n",
    "\n",
    "print('a, b', a, b)\n",
    "print(area, cir, r)"
   ]
  },
  {
   "cell_type": "markdown",
   "metadata": {},
   "source": [
    "### Passing a list as an argument"
   ]
  },
  {
   "cell_type": "code",
   "execution_count": 26,
   "metadata": {},
   "outputs": [],
   "source": [
    "def abs_numbers(numbers):\n",
    "    for i in range(len(numbers)):\n",
    "        if numbers[i] < 0:\n",
    "            numbers[i] = abs(numbers[i])"
   ]
  },
  {
   "cell_type": "code",
   "execution_count": 27,
   "metadata": {},
   "outputs": [
    {
     "name": "stdout",
     "output_type": "stream",
     "text": [
      "[0, 1, 2, 3, 4, 5]\n"
     ]
    }
   ],
   "source": [
    "a = [0, -1, -2, 3, 4, -5]\n",
    "abs_numbers(a)\n",
    "print(a)"
   ]
  },
  {
   "cell_type": "markdown",
   "metadata": {},
   "source": [
    "## Benefit of functions\n",
    "\n",
    "- Writing a program to check whether 2 circles overlap to each other."
   ]
  },
  {
   "cell_type": "code",
   "execution_count": 28,
   "metadata": {},
   "outputs": [
    {
     "name": "stdout",
     "output_type": "stream",
     "text": [
      "x = 1\n",
      "y = 2\n",
      "r = 3\n",
      "x = 0\n",
      "y = 3\n",
      "r = 4\n",
      "x = 5\n",
      "y = 7\n",
      "r = 9\n",
      "1 & 2 overlap\n",
      "1 & 3 overlap\n",
      "2 & 3 overlap\n"
     ]
    }
   ],
   "source": [
    "# get circle's parameters from the keyboard\n",
    "def get_circle(): \n",
    "    x = int(input('x = '))\n",
    "    y = int(input('y = '))\n",
    "    r = int(input('r = '))\n",
    "    return ((x, y), r)\n",
    "\n",
    "# calculate distance between 2 points\n",
    "def distance(p1, p2): \n",
    "    return ((p1[0] - p2[0]) ** 2 + (p1[1] - p2[1]) ** 2) ** 0.5\n",
    "\n",
    "# check if 2 circles is overlapped\n",
    "def is_overlap(c1, c2):\n",
    "    dist = distance(c1[0], c2[0])\n",
    "    if dist > (c1[1] + c2[1]):\n",
    "        return 'no overlap'\n",
    "    elif dist == (c1[1] + c2[1]):\n",
    "        return 'touch'\n",
    "    else:\n",
    "        return 'overlap'\n",
    "    \n",
    "c1 = get_circle()\n",
    "c2 = get_circle()\n",
    "c3 = get_circle()\n",
    "\n",
    "print('1 & 2', is_overlap(c1, c2))\n",
    "print('1 & 3', is_overlap(c1, c3))\n",
    "print('2 & 3', is_overlap(c2, c3))"
   ]
  }
 ],
 "metadata": {
  "kernelspec": {
   "display_name": "Python 3 (ipykernel)",
   "language": "python",
   "name": "python3"
  },
  "language_info": {
   "codemirror_mode": {
    "name": "ipython",
    "version": 3
   },
   "file_extension": ".py",
   "mimetype": "text/x-python",
   "name": "python",
   "nbconvert_exporter": "python",
   "pygments_lexer": "ipython3",
   "version": "3.10.4"
  },
  "vscode": {
   "interpreter": {
    "hash": "69afb16850fb080b0d2f0cee190e8848b3ff785e95ea7eabe4fe94a2423f9ba5"
   }
  }
 },
 "nbformat": 4,
 "nbformat_minor": 2
}
