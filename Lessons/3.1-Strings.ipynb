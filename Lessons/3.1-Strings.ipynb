{
 "cells": [
  {
   "cell_type": "markdown",
   "id": "7a6b6841",
   "metadata": {},
   "source": [
    "# Strings\n",
    "\n",
    "## String methods"
   ]
  },
  {
   "cell_type": "code",
   "execution_count": 1,
   "id": "d84328b1",
   "metadata": {},
   "outputs": [
    {
     "data": {
      "text/plain": [
       "17"
      ]
     },
     "execution_count": 1,
     "metadata": {},
     "output_type": "execute_result"
    }
   ],
   "source": [
    "s = \"   Hello world!  \"\n",
    "len(s)"
   ]
  },
  {
   "cell_type": "code",
   "execution_count": 2,
   "id": "3b748f8f",
   "metadata": {},
   "outputs": [
    {
     "data": {
      "text/plain": [
       "0"
      ]
     },
     "execution_count": 2,
     "metadata": {},
     "output_type": "execute_result"
    }
   ],
   "source": [
    "len(\"\")"
   ]
  },
  {
   "cell_type": "code",
   "execution_count": 3,
   "id": "17105528",
   "metadata": {},
   "outputs": [
    {
     "data": {
      "text/plain": [
       "'   hello world!  '"
      ]
     },
     "execution_count": 3,
     "metadata": {},
     "output_type": "execute_result"
    }
   ],
   "source": [
    "s.lower()"
   ]
  },
  {
   "cell_type": "code",
   "execution_count": 4,
   "id": "100731bc",
   "metadata": {},
   "outputs": [
    {
     "data": {
      "text/plain": [
       "'   HELLO WORLD!  '"
      ]
     },
     "execution_count": 4,
     "metadata": {},
     "output_type": "execute_result"
    }
   ],
   "source": [
    "s.upper()"
   ]
  },
  {
   "cell_type": "markdown",
   "id": "9ce90dd7",
   "metadata": {},
   "source": [
    "### `strip()`\n",
    "Remove *spaces* at the beginning and at the end of the string."
   ]
  },
  {
   "cell_type": "code",
   "execution_count": 5,
   "id": "74d49585",
   "metadata": {},
   "outputs": [
    {
     "data": {
      "text/plain": [
       "'Hello world!'"
      ]
     },
     "execution_count": 5,
     "metadata": {},
     "output_type": "execute_result"
    }
   ],
   "source": [
    "s.strip()"
   ]
  },
  {
   "cell_type": "code",
   "execution_count": 6,
   "id": "97fce2c3",
   "metadata": {},
   "outputs": [
    {
     "data": {
      "text/plain": [
       "5"
      ]
     },
     "execution_count": 6,
     "metadata": {},
     "output_type": "execute_result"
    }
   ],
   "source": [
    "s.find(\"l\")"
   ]
  },
  {
   "cell_type": "code",
   "execution_count": 7,
   "id": "b5109eea",
   "metadata": {},
   "outputs": [
    {
     "data": {
      "text/plain": [
       "-1"
      ]
     },
     "execution_count": 7,
     "metadata": {},
     "output_type": "execute_result"
    }
   ],
   "source": [
    "s.find(\"a\")"
   ]
  },
  {
   "cell_type": "code",
   "execution_count": 8,
   "id": "6ad82cc6",
   "metadata": {},
   "outputs": [
    {
     "data": {
      "text/plain": [
       "5"
      ]
     },
     "execution_count": 8,
     "metadata": {},
     "output_type": "execute_result"
    }
   ],
   "source": [
    "s.find(\"l\", 5)"
   ]
  },
  {
   "cell_type": "code",
   "execution_count": 9,
   "id": "e76799f3",
   "metadata": {},
   "outputs": [
    {
     "data": {
      "text/plain": [
       "6"
      ]
     },
     "execution_count": 9,
     "metadata": {},
     "output_type": "execute_result"
    }
   ],
   "source": [
    "s.find(\"l\", 6)"
   ]
  },
  {
   "cell_type": "code",
   "execution_count": 10,
   "id": "981a8881",
   "metadata": {},
   "outputs": [
    {
     "data": {
      "text/plain": [
       "True"
      ]
     },
     "execution_count": 10,
     "metadata": {},
     "output_type": "execute_result"
    }
   ],
   "source": [
    "\"Hello\" in s"
   ]
  },
  {
   "cell_type": "markdown",
   "id": "99920dfd",
   "metadata": {},
   "source": [
    "## Method Chaining"
   ]
  },
  {
   "cell_type": "code",
   "execution_count": 11,
   "id": "9089c4aa",
   "metadata": {},
   "outputs": [
    {
     "name": "stdout",
     "output_type": "stream",
     "text": [
      ">> I'am ok!\n",
      "5\n"
     ]
    }
   ],
   "source": [
    "text = input(\">> \")\n",
    "strip_text = text.strip()\n",
    "upper_stripped_text = strip_text.upper()\n",
    "index_of_ok = upper_stripped_text.find(\"OK\")\n",
    "print(index_of_ok)"
   ]
  },
  {
   "cell_type": "code",
   "execution_count": 12,
   "id": "4886eb98",
   "metadata": {},
   "outputs": [
    {
     "name": "stdout",
     "output_type": "stream",
     "text": [
      ">> I'am ok!\n",
      "5\n"
     ]
    }
   ],
   "source": [
    "index_of_ok = input(\">> \").strip().upper().find(\"OK\")\n",
    "print(index_of_ok)"
   ]
  }
 ],
 "metadata": {
  "kernelspec": {
   "display_name": "Python 3 (ipykernel)",
   "language": "python",
   "name": "python3"
  },
  "language_info": {
   "codemirror_mode": {
    "name": "ipython",
    "version": 3
   },
   "file_extension": ".py",
   "mimetype": "text/x-python",
   "name": "python",
   "nbconvert_exporter": "python",
   "pygments_lexer": "ipython3",
   "version": "3.10.4"
  }
 },
 "nbformat": 4,
 "nbformat_minor": 5
}
