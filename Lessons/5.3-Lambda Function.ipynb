{
 "cells": [
  {
   "cell_type": "markdown",
   "metadata": {},
   "source": [
    "# Lambda Function\n",
    "\n",
    "## 1.1 What is a lambda function?\n",
    "\n",
    "- **Anonymous** function (a function without name)\n",
    "- Have only a **single expression/statement**\n",
    "- Used like an **in-line function**\n",
    "\n",
    "**Syntax**:\n",
    "\n",
    "> **lambda** *list_of_params*: function_body"
   ]
  },
  {
   "cell_type": "markdown",
   "metadata": {},
   "source": [
    "## 1.2 Write lambda function vs normal named function"
   ]
  },
  {
   "cell_type": "code",
   "execution_count": 1,
   "metadata": {},
   "outputs": [
    {
     "name": "stdout",
     "output_type": "stream",
     "text": [
      "Hi! Tata , how are you doing?\n"
     ]
    }
   ],
   "source": [
    "def say_hi(name):\n",
    "    print('Hi!', name, ', how are you doing?')\n",
    "    \n",
    "say_hi('Tata')"
   ]
  },
  {
   "cell_type": "code",
   "execution_count": 2,
   "metadata": {},
   "outputs": [
    {
     "name": "stdout",
     "output_type": "stream",
     "text": [
      "Hi! Tata , how are you doing?\n"
     ]
    }
   ],
   "source": [
    "(lambda name: print('Hi!', name, ', how are you doing?'))('Tata')"
   ]
  },
  {
   "cell_type": "code",
   "execution_count": 3,
   "metadata": {},
   "outputs": [
    {
     "name": "stdout",
     "output_type": "stream",
     "text": [
      "Hi! Tata , how are you doing?\n"
     ]
    }
   ],
   "source": [
    "lambda_say_hi = lambda name: print('Hi!', name, ', how are you doing?')\n",
    "lambda_say_hi('Tata')"
   ]
  },
  {
   "cell_type": "markdown",
   "metadata": {},
   "source": [
    "## 2. When to use Lambda Function\n",
    "\n",
    "- **One-time** use as **inline** function\n",
    "- Reduce lines of code\n",
    "- Concise, convenient and easy-to-read code\n",
    "\n",
    "### 2.1 Lambda function as function parameter\n",
    "\n",
    "#### 2.1.1 Use with `map()` function"
   ]
  },
  {
   "cell_type": "code",
   "execution_count": 4,
   "metadata": {},
   "outputs": [
    {
     "data": {
      "text/plain": [
       "[2, 12, 30]"
      ]
     },
     "execution_count": 4,
     "metadata": {},
     "output_type": "execute_result"
    }
   ],
   "source": [
    "rects = [(1, 2), (3, 4), (5, 6)]\n",
    "list(map(lambda x: x[0] * x[1], rects))"
   ]
  },
  {
   "cell_type": "markdown",
   "metadata": {},
   "source": [
    "- Can we use the normal defined function instead?"
   ]
  },
  {
   "cell_type": "code",
   "execution_count": 5,
   "metadata": {},
   "outputs": [
    {
     "data": {
      "text/plain": [
       "[2, 12, 30]"
      ]
     },
     "execution_count": 5,
     "metadata": {},
     "output_type": "execute_result"
    }
   ],
   "source": [
    "def get_rec_area(x):\n",
    "    return x[0] * x[1]\n",
    "\n",
    "list(map(get_rec_area, rects))"
   ]
  },
  {
   "cell_type": "markdown",
   "metadata": {},
   "source": [
    "#### 2.1.1 Use with `reduce()` function"
   ]
  },
  {
   "cell_type": "code",
   "execution_count": 6,
   "metadata": {},
   "outputs": [
    {
     "data": {
      "text/plain": [
       "15"
      ]
     },
     "execution_count": 6,
     "metadata": {},
     "output_type": "execute_result"
    }
   ],
   "source": [
    "from functools import reduce\n",
    "\n",
    "reduce(lambda x, y: x + y, [1, 2, 3, 4, 5])"
   ]
  },
  {
   "cell_type": "markdown",
   "metadata": {},
   "source": [
    "#### 2.1.1 Use with `filter()` function"
   ]
  },
  {
   "cell_type": "code",
   "execution_count": 7,
   "metadata": {},
   "outputs": [
    {
     "data": {
      "text/plain": [
       "['Nick', 'Mike']"
      ]
     },
     "execution_count": 7,
     "metadata": {},
     "output_type": "execute_result"
    }
   ],
   "source": [
    "names = ['Dave', 'Nick', 'Tom', 'Mike']\n",
    "list(filter(lambda s: s[0] in ['M', 'N'], names))"
   ]
  },
  {
   "cell_type": "markdown",
   "metadata": {},
   "source": [
    "## 3. List Comprehension as Alternative to Lambda Function"
   ]
  },
  {
   "cell_type": "code",
   "execution_count": 8,
   "metadata": {},
   "outputs": [
    {
     "name": "stdout",
     "output_type": "stream",
     "text": [
      "[2, 12, 30]\n",
      "[2, 12, 30]\n"
     ]
    }
   ],
   "source": [
    "rects = [(1, 2), (3, 4), (5, 6)]\n",
    "\n",
    "# Lambda\n",
    "print(list(map(lambda x: x[0] * x[1], rects)))\n",
    "\n",
    "# List comprehension\n",
    "print([x[0] * x[1] for x in rects])"
   ]
  },
  {
   "cell_type": "code",
   "execution_count": 9,
   "metadata": {},
   "outputs": [
    {
     "name": "stdout",
     "output_type": "stream",
     "text": [
      "15\n",
      "15\n"
     ]
    }
   ],
   "source": [
    "seq = [1, 2, 3, 4, 5]\n",
    "\n",
    "# Lambda\n",
    "print(reduce(lambda x, y: x + y, seq))\n",
    "\n",
    "# List comprehension\n",
    "print(sum(seq))"
   ]
  },
  {
   "cell_type": "code",
   "execution_count": 10,
   "metadata": {},
   "outputs": [
    {
     "name": "stdout",
     "output_type": "stream",
     "text": [
      "['Nick', 'Mike']\n",
      "['Nick', 'Mike']\n"
     ]
    }
   ],
   "source": [
    "names = ['Dave', 'Nick', 'Tom', 'Mike']\n",
    "\n",
    "# Lambda\n",
    "print(list(filter(lambda s: s[0] in ['M', 'N'], names)))\n",
    "\n",
    "# List comprehension\n",
    "print([x for x in names if x[0] in ['M', 'N']])"
   ]
  }
 ],
 "metadata": {
  "kernelspec": {
   "display_name": "Python 3 (ipykernel)",
   "language": "python",
   "name": "python3"
  },
  "language_info": {
   "codemirror_mode": {
    "name": "ipython",
    "version": 3
   },
   "file_extension": ".py",
   "mimetype": "text/x-python",
   "name": "python",
   "nbconvert_exporter": "python",
   "pygments_lexer": "ipython3",
   "version": "3.10.4"
  },
  "vscode": {
   "interpreter": {
    "hash": "69afb16850fb080b0d2f0cee190e8848b3ff785e95ea7eabe4fe94a2423f9ba5"
   }
  }
 },
 "nbformat": 4,
 "nbformat_minor": 2
}
