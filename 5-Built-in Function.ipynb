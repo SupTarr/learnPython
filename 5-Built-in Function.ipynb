{
 "cells": [
  {
   "cell_type": "markdown",
   "id": "9ceca493",
   "metadata": {},
   "source": [
    "# Built-in Function\n",
    "\n",
    "## **abs()**"
   ]
  },
  {
   "cell_type": "code",
   "execution_count": 1,
   "id": "d99143a4",
   "metadata": {},
   "outputs": [
    {
     "name": "stdout",
     "output_type": "stream",
     "text": [
      "5\n",
      "5\n"
     ]
    }
   ],
   "source": [
    "print(abs(5))\n",
    "print(abs(-5))"
   ]
  },
  {
   "cell_type": "code",
   "execution_count": 2,
   "id": "5ffa3005",
   "metadata": {},
   "outputs": [
    {
     "name": "stdout",
     "output_type": "stream",
     "text": [
      "5.0\n",
      "5.0\n"
     ]
    }
   ],
   "source": [
    "print(abs(5.0))\n",
    "print(abs(-5.0))"
   ]
  },
  {
   "cell_type": "code",
   "execution_count": 3,
   "id": "7640c815",
   "metadata": {},
   "outputs": [
    {
     "name": "stdout",
     "output_type": "stream",
     "text": [
      "2.23606797749979\n",
      "5.0\n"
     ]
    }
   ],
   "source": [
    "print(abs(1 + 2j))\n",
    "print(abs(3 + 4j))"
   ]
  },
  {
   "cell_type": "code",
   "execution_count": 4,
   "id": "c677b633",
   "metadata": {},
   "outputs": [
    {
     "ename": "TypeError",
     "evalue": "bad operand type for abs(): 'str'",
     "output_type": "error",
     "traceback": [
      "\u001b[1;31m---------------------------------------------------------------------------\u001b[0m",
      "\u001b[1;31mTypeError\u001b[0m                                 Traceback (most recent call last)",
      "Cell \u001b[1;32mIn[4], line 1\u001b[0m\n\u001b[1;32m----> 1\u001b[0m \u001b[38;5;28mprint\u001b[39m(\u001b[38;5;28;43mabs\u001b[39;49m\u001b[43m(\u001b[49m\u001b[38;5;124;43m\"\u001b[39;49m\u001b[38;5;124;43mThis should not work!\u001b[39;49m\u001b[38;5;124;43m\"\u001b[39;49m\u001b[43m)\u001b[49m)\n",
      "\u001b[1;31mTypeError\u001b[0m: bad operand type for abs(): 'str'"
     ]
    }
   ],
   "source": [
    "print(abs(\"This should not work!\"))"
   ]
  },
  {
   "cell_type": "markdown",
   "id": "b2458661",
   "metadata": {},
   "source": [
    "## bin()"
   ]
  },
  {
   "cell_type": "code",
   "execution_count": 5,
   "id": "77a99d55",
   "metadata": {},
   "outputs": [
    {
     "name": "stdout",
     "output_type": "stream",
     "text": [
      "0b11001000\n",
      "<class 'str'>\n"
     ]
    }
   ],
   "source": [
    "x = bin(200)\n",
    "print(x)\n",
    "print(type(x))"
   ]
  },
  {
   "cell_type": "code",
   "execution_count": 6,
   "id": "acbab322",
   "metadata": {},
   "outputs": [
    {
     "ename": "TypeError",
     "evalue": "'float' object cannot be interpreted as an integer",
     "output_type": "error",
     "traceback": [
      "\u001b[1;31m---------------------------------------------------------------------------\u001b[0m",
      "\u001b[1;31mTypeError\u001b[0m                                 Traceback (most recent call last)",
      "Cell \u001b[1;32mIn[6], line 1\u001b[0m\n\u001b[1;32m----> 1\u001b[0m x \u001b[38;5;241m=\u001b[39m \u001b[38;5;28;43mbin\u001b[39;49m\u001b[43m(\u001b[49m\u001b[38;5;241;43m200.00\u001b[39;49m\u001b[43m)\u001b[49m\n",
      "\u001b[1;31mTypeError\u001b[0m: 'float' object cannot be interpreted as an integer"
     ]
    }
   ],
   "source": [
    "x = bin(200.00)"
   ]
  },
  {
   "cell_type": "markdown",
   "id": "9f91ab7c",
   "metadata": {},
   "source": [
    "## input()"
   ]
  },
  {
   "cell_type": "code",
   "execution_count": 7,
   "id": "090e2e35",
   "metadata": {},
   "outputs": [
    {
     "name": "stdout",
     "output_type": "stream",
     "text": [
      "Supakrit\n"
     ]
    }
   ],
   "source": [
    "name = input()"
   ]
  },
  {
   "cell_type": "code",
   "execution_count": 8,
   "id": "a8fce0e2",
   "metadata": {},
   "outputs": [
    {
     "name": "stdout",
     "output_type": "stream",
     "text": [
      "Enter your name: Supakrit Chuchatwannakul\n",
      "Supakrit Chuchatwannakul\n"
     ]
    }
   ],
   "source": [
    "name = input (\"Enter your name: \")\n",
    "print(name)"
   ]
  },
  {
   "cell_type": "markdown",
   "id": "214b0dde",
   "metadata": {},
   "source": [
    "## pow()"
   ]
  },
  {
   "cell_type": "code",
   "execution_count": 9,
   "id": "308bf1ab",
   "metadata": {},
   "outputs": [
    {
     "name": "stdout",
     "output_type": "stream",
     "text": [
      "32\n",
      "25\n"
     ]
    }
   ],
   "source": [
    "print(pow(2, 5))\n",
    "print(pow(5, 2))"
   ]
  },
  {
   "cell_type": "code",
   "execution_count": 10,
   "id": "0d120ccd",
   "metadata": {},
   "outputs": [
    {
     "name": "stdout",
     "output_type": "stream",
     "text": [
      "1000\n",
      "1000\n"
     ]
    }
   ],
   "source": [
    "print(pow(base = 10, exp = 3))\n",
    "print(pow(exp = 3, base = 10))"
   ]
  },
  {
   "cell_type": "markdown",
   "id": "2303eabf",
   "metadata": {},
   "source": [
    "## max()"
   ]
  },
  {
   "cell_type": "code",
   "execution_count": 11,
   "id": "1e118850",
   "metadata": {},
   "outputs": [
    {
     "name": "stdout",
     "output_type": "stream",
     "text": [
      "9.5\n"
     ]
    }
   ],
   "source": [
    "print(max(8, 9.5))"
   ]
  },
  {
   "cell_type": "code",
   "execution_count": 12,
   "id": "be25872f",
   "metadata": {},
   "outputs": [
    {
     "name": "stdout",
     "output_type": "stream",
     "text": [
      "10\n"
     ]
    }
   ],
   "source": [
    "print(max(10, 9.5, -3))"
   ]
  },
  {
   "cell_type": "code",
   "execution_count": 13,
   "id": "00b91d01",
   "metadata": {},
   "outputs": [
    {
     "name": "stdout",
     "output_type": "stream",
     "text": [
      "3.5\n"
     ]
    }
   ],
   "source": [
    "print(max(2, 3.5, -4, -1.5))"
   ]
  },
  {
   "cell_type": "code",
   "execution_count": 14,
   "id": "4faca5e6",
   "metadata": {},
   "outputs": [
    {
     "name": "stdout",
     "output_type": "stream",
     "text": [
      "X\n"
     ]
    }
   ],
   "source": [
    "print(max(\"T\", \"A\", \"X\", \"I\"))"
   ]
  },
  {
   "cell_type": "markdown",
   "id": "f39a245d",
   "metadata": {},
   "source": [
    "## print()"
   ]
  },
  {
   "cell_type": "code",
   "execution_count": 16,
   "id": "3edd7f6b",
   "metadata": {},
   "outputs": [
    {
     "name": "stdout",
     "output_type": "stream",
     "text": [
      "Hello World Tata\n"
     ]
    }
   ],
   "source": [
    "print(\"Hello\", \"World\", \"Tata\")"
   ]
  },
  {
   "cell_type": "code",
   "execution_count": 17,
   "id": "4b202876",
   "metadata": {},
   "outputs": [
    {
     "name": "stdout",
     "output_type": "stream",
     "text": [
      "Hello++World++Tata\n"
     ]
    }
   ],
   "source": [
    "print(\"Hello\", \"World\", \"Tata\", sep = \"++\")"
   ]
  },
  {
   "cell_type": "code",
   "execution_count": 18,
   "id": "0ec336d8",
   "metadata": {},
   "outputs": [
    {
     "name": "stdout",
     "output_type": "stream",
     "text": [
      "Hello World Tata\n",
      "Hello World Tangmo.Hello World Top\n"
     ]
    }
   ],
   "source": [
    "print(\"Hello\", \"World\", \"Tata\")\n",
    "print(\"Hello\", \"World\", \"Tangmo\", end = \".\")\n",
    "print(\"Hello\", \"World\", \"Top\")"
   ]
  },
  {
   "cell_type": "code",
   "execution_count": 19,
   "id": "e2f3e8bc",
   "metadata": {},
   "outputs": [
    {
     "name": "stdout",
     "output_type": "stream",
     "text": [
      "Hello\n",
      "World\n",
      "Tata\n"
     ]
    }
   ],
   "source": [
    "print(\"Hello\", \"World\", \"Tata\", sep = \"\\n\")"
   ]
  }
 ],
 "metadata": {
  "kernelspec": {
   "display_name": "Python 3 (ipykernel)",
   "language": "python",
   "name": "python3"
  },
  "language_info": {
   "codemirror_mode": {
    "name": "ipython",
    "version": 3
   },
   "file_extension": ".py",
   "mimetype": "text/x-python",
   "name": "python",
   "nbconvert_exporter": "python",
   "pygments_lexer": "ipython3",
   "version": "3.10.4"
  }
 },
 "nbformat": 4,
 "nbformat_minor": 5
}
