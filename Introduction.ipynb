{
 "cells": [
  {
   "cell_type": "markdown",
   "metadata": {},
   "source": [
    "# Introduction to **Python** and **Jupyter Notebook**\n",
    "---"
   ]
  },
  {
   "cell_type": "markdown",
   "metadata": {},
   "source": [
    "This is a simple Python program to draw a **heart** shape"
   ]
  },
  {
   "cell_type": "code",
   "execution_count": 1,
   "metadata": {},
   "outputs": [
    {
     "name": "stdout",
     "output_type": "stream",
     "text": [
      "  * *   * *   \n",
      "*     *     * \n",
      "*           * \n",
      "  *       *   \n",
      "    *   *     \n",
      "      *       \n"
     ]
    }
   ],
   "source": [
    "for row in range(6):\n",
    "  for col in range(7):\n",
    "    if (row == 0 and col % 3 != 0) or (row == 1 and col % 3 == 0) or (row - col == 2) or (row + col == 8):\n",
    "      print(\"*\", end = \" \")\n",
    "    else:\n",
    "      print(end = \"  \")\n",
    "  print()"
   ]
  },
  {
   "cell_type": "markdown",
   "metadata": {},
   "source": [
    "This is a **Markdown Cell**. We can *format* our content. Even write a list \n",
    "- Item 1\n",
    "- Item 2\n",
    "- Item 3"
   ]
  },
  {
   "cell_type": "code",
   "execution_count": 2,
   "metadata": {},
   "outputs": [
    {
     "name": "stdout",
     "output_type": "stream",
     "text": [
      "6\n"
     ]
    }
   ],
   "source": [
    "a = 2\n",
    "b = 3\n",
    "print(a * b)"
   ]
  },
  {
   "cell_type": "markdown",
   "metadata": {},
   "source": [
    "## Command in **Jupyter Notebook**\n",
    "- **Edit** mode: `Enter`\n",
    "- **Command** mode: `Esc`\n",
    "- **Markdown** mode: `M`\n",
    "- **Code** mode: `Y`\n",
    "\n",
    "### Shortcut in **Command mode**\n",
    "- **Select** cell **above** (Arrow up): `^` \n",
    "- **Select** cell **below** (Arrow down): `v`\n",
    "- **Insert** cell **above** (Insert above): `a`\n",
    "- **Insert** cell **below** (Insert below): `b`\n",
    "- **Copy** selected cell (Copy): `c`\n",
    "- **Cut** selected cell (Cut): `x` \n",
    "- **Paste** cell **above** (Paste above): `Shift + v`\n",
    "- **Paste** cell **below** (Paste below): `v`\n",
    "\n",
    "### Running **cell**\n",
    "- Run but cursor **stays** in the **same** cell: `Ctrl + Enter`\n",
    "- Run and cursor **select** the **next** cell: `Shift + Enter`\n",
    "- Run and cursor **select** the **new added** cell: `Alt + Enter`"
   ]
  },
  {
   "cell_type": "markdown",
   "metadata": {},
   "source": [
    "## **Markdown** <img src=\"markdown.png\" alt=\"Markdown icon\" style=\"float: left; margin-right: 10px; height: 40px\" />\n",
    "     \n",
    "---"
   ]
  },
  {
   "cell_type": "markdown",
   "metadata": {},
   "source": [
    "# Heading 1\n",
    "## Heading 2\n",
    "### Heading 3\n",
    "#### Heading 4\n",
    "##### Heading 5\n",
    "###### Heading 6\n",
    "This is a paragraph.\n",
    "\n",
    "This is a second paragraph.\n",
    "\n",
    "---"
   ]
  },
  {
   "cell_type": "markdown",
   "metadata": {},
   "source": [
    "We want to format **this in bold face**, while this will be in *italics*."
   ]
  },
  {
   "cell_type": "markdown",
   "metadata": {},
   "source": [
    "- Item 1\n",
    "- Item 2\n",
    "- Item 3\n",
    "\n",
    "1. Item 1\n",
    "2. Item 2\n",
    "3. Item 3"
   ]
  },
  {
   "cell_type": "markdown",
   "metadata": {},
   "source": [
    "| ID |Score |\n",
    "|----|------|\n",
    "| 1  | 100  |\n",
    "| 2  | 90   |\n",
    "| 3  | 80   |\n",
    "| 4  | 70   |\n",
    "| 5  | 60   |"
   ]
  },
  {
   "cell_type": "markdown",
   "metadata": {},
   "source": [
    "Add photo and link\n",
    "\n",
    "[My GitHub](https://github.com/SupTarr)\n",
    "\n",
    "![Cat meme photo](https://media.tenor.com/EWJtsf43CkwAAAAd/cat-face.gif)"
   ]
  },
  {
   "cell_type": "markdown",
   "metadata": {},
   "source": [
    "To start, type `jupyter notebook` in the terminal/command prompt\n",
    "    \n",
    "    # To add a code block, use 4 spaces or 1 tab\n",
    "    function squaed(x) {\n",
    "        return x * x;\n",
    "    }"
   ]
  }
 ],
 "metadata": {
  "kernelspec": {
   "display_name": "Python 3.10.4 64-bit",
   "language": "python",
   "name": "python3"
  },
  "language_info": {
   "codemirror_mode": {
    "name": "ipython",
    "version": 3
   },
   "file_extension": ".py",
   "mimetype": "text/x-python",
   "name": "python",
   "nbconvert_exporter": "python",
   "pygments_lexer": "ipython3",
   "version": "3.10.4"
  },
  "orig_nbformat": 4,
  "vscode": {
   "interpreter": {
    "hash": "69afb16850fb080b0d2f0cee190e8848b3ff785e95ea7eabe4fe94a2423f9ba5"
   }
  }
 },
 "nbformat": 4,
 "nbformat_minor": 2
}
