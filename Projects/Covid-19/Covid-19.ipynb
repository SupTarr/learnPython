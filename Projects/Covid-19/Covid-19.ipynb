{
 "cells": [
  {
   "cell_type": "markdown",
   "id": "c1139955",
   "metadata": {},
   "source": [
    "# Covid-19 Cases in Thailand\n",
    "\n",
    "- Write a program to read a csv file of covid-19 cases in Thailand from 12 August 2021.\n",
    "\n",
    "## Steps\n",
    "\n",
    "1. Read file 'confirmed-cases-since-120864.csv' to read a data.\n",
    "2. Data should be transformed into the preferred form structure.\n",
    "3. Processing the data"
   ]
  },
  {
   "cell_type": "code",
   "execution_count": 1,
   "id": "df69b174",
   "metadata": {},
   "outputs": [],
   "source": [
    "# A function to read data from file to a list\n",
    "\n",
    "def read_data(file_name):\n",
    "    with open(file_name, mode = 'r', encoding = 'utf-8-sig') as f:\n",
    "        data = f.readlines()\n",
    "        \n",
    "    return data"
   ]
  },
  {
   "cell_type": "code",
   "execution_count": 2,
   "id": "6610a0e6",
   "metadata": {},
   "outputs": [],
   "source": [
    "# A function to transform data to the designated data structure for our task\n",
    "\n",
    "def transform_data(data, keys):\n",
    "    cases = list()\n",
    "    \n",
    "    for item in data:\n",
    "        case = dict()\n",
    "        record = item.strip().split(',')\n",
    "        \n",
    "        for i in range(len(record)):\n",
    "            case[keys[i]] = record[i]\n",
    "        \n",
    "        cases.append(case)\n",
    "        \n",
    "    return cases"
   ]
  },
  {
   "cell_type": "code",
   "execution_count": 3,
   "id": "b78f6f23",
   "metadata": {},
   "outputs": [],
   "source": [
    "# A function that returns number of cases for a given date.\n",
    "\n",
    "def number_of_cases(cases, date):\n",
    "    count = 0\n",
    "    for case in cases:\n",
    "        if 'announce_date' in case.keys() and case['announce_date'] == date:\n",
    "            count += 1\n",
    "            \n",
    "    return count"
   ]
  },
  {
   "cell_type": "code",
   "execution_count": 4,
   "id": "0edb68e2",
   "metadata": {},
   "outputs": [],
   "source": [
    "# A function that returns the number of males and females for a range of dates.\n",
    "\n",
    "def number_of_cases_by_sex(cases, start_date, end_date):\n",
    "    males = 0\n",
    "    females = 0\n",
    "    unknown = 0\n",
    "    \n",
    "    for case in cases:\n",
    "        if 'announce_date' in case.keys() and start_date <= case['announce_date'] <= end_date:\n",
    "            if case['sex'] == 'ชาย': \n",
    "                males += 1\n",
    "            elif case['sex'] == 'หญิง': \n",
    "                females += 1\n",
    "            else: \n",
    "                unknown += 1\n",
    "            \n",
    "    return males, females, unknown"
   ]
  },
  {
   "cell_type": "code",
   "execution_count": 5,
   "id": "461c4fb8",
   "metadata": {},
   "outputs": [],
   "source": [
    "# A function that returns the distribution of ages. Given the age ranges consist of [(0,19), (20,39), (40,59), (60,79), (80,99), (100, 119)]\n",
    "\n",
    "def number_of_cases_by_ages(cases, age_range):\n",
    "    # bin = [0, 0, 0, 0, 0, 0, 0]\n",
    "    bin = [0] * (len(age_range) + 1) \n",
    "    \n",
    "    for case in cases:\n",
    "        if 'Unit' in case.keys():\n",
    "            if case['Unit'] == 'เดือน' or case['Unit'] == 'วัน':\n",
    "                bin[0] += 1\n",
    "            elif case['Unit'] == 'ปี':\n",
    "                for i in range(len(bin) - 1):\n",
    "                    if age_range[i][0] <= float(case['age']) <= age_range[i][1]:\n",
    "                        bin[i] +=1\n",
    "                        break\n",
    "            else:\n",
    "                bin[-1] += 1\n",
    "                \n",
    "    return bin"
   ]
  },
  {
   "cell_type": "markdown",
   "id": "19d9f801",
   "metadata": {},
   "source": [
    "### Main program"
   ]
  },
  {
   "cell_type": "code",
   "execution_count": 6,
   "id": "eaab1130",
   "metadata": {},
   "outputs": [],
   "source": [
    "data = read_data('confirmed-cases-since-120864.csv')"
   ]
  },
  {
   "cell_type": "code",
   "execution_count": 7,
   "id": "472fa430",
   "metadata": {},
   "outputs": [
    {
     "name": "stdout",
     "output_type": "stream",
     "text": [
      "1042184\n",
      "No.,announce_date,Notified date,sex,age,Unit,nationality,province_of_isolation,risk,province_of_onset,district_of_onset\n",
      "816990,12/8/2021,11/8/2021,ชาย,7,ปี,Thailand,เชียงราย,อื่นๆ,,\n"
     ]
    }
   ],
   "source": [
    "print(len(data))\n",
    "print(data[0], end = '')\n",
    "print(data[1], end = '')"
   ]
  },
  {
   "cell_type": "code",
   "execution_count": 8,
   "id": "607e062b",
   "metadata": {},
   "outputs": [
    {
     "name": "stdout",
     "output_type": "stream",
     "text": [
      "['No.', 'announce_date', 'Notified date', 'sex', 'age', 'Unit', 'nationality', 'province_of_isolation', 'risk', 'province_of_onset', 'district_of_onset']\n"
     ]
    }
   ],
   "source": [
    "keys = data.pop(0).strip().split(',')\n",
    "print(keys)"
   ]
  },
  {
   "cell_type": "code",
   "execution_count": 9,
   "id": "2e60f406",
   "metadata": {},
   "outputs": [
    {
     "name": "stdout",
     "output_type": "stream",
     "text": [
      "{'No.': '817092', 'announce_date': '12/8/2021', 'Notified date': '11/8/2021', 'sex': 'ชาย', 'age': '34', 'Unit': 'ปี', 'nationality': 'Thailand', 'province_of_isolation': 'น่าน', 'risk': 'อื่นๆ', 'province_of_onset': '', 'district_of_onset': ''}\n"
     ]
    }
   ],
   "source": [
    "cases = transform_data(data, keys)\n",
    "print(cases[102])"
   ]
  },
  {
   "cell_type": "code",
   "execution_count": 10,
   "id": "4cd78e78",
   "metadata": {},
   "outputs": [
    {
     "name": "stdout",
     "output_type": "stream",
     "text": [
      "22086\n"
     ]
    }
   ],
   "source": [
    "# number of cases for a given date.\n",
    "\n",
    "print(number_of_cases(cases, '14/8/2021'))"
   ]
  },
  {
   "cell_type": "code",
   "execution_count": 11,
   "id": "69c846c1",
   "metadata": {},
   "outputs": [
    {
     "name": "stdout",
     "output_type": "stream",
     "text": [
      "(51589, 55674, 4580)\n"
     ]
    }
   ],
   "source": [
    "# number of males and females for a range of dates.\n",
    "\n",
    "print(number_of_cases_by_sex(cases, '14/8/2021', '16/8/2021'))"
   ]
  },
  {
   "cell_type": "code",
   "execution_count": 12,
   "id": "97f1e4b1",
   "metadata": {},
   "outputs": [
    {
     "name": "stdout",
     "output_type": "stream",
     "text": [
      "[191634, 396090, 272375, 88497, 13487, 85, 80000]\n"
     ]
    }
   ],
   "source": [
    "print(number_of_cases_by_ages(cases, [(0,19), (20,39), (40,59), (60,79), (80,99), (100, 119)]))"
   ]
  }
 ],
 "metadata": {
  "kernelspec": {
   "display_name": "Python 3 (ipykernel)",
   "language": "python",
   "name": "python3"
  },
  "language_info": {
   "codemirror_mode": {
    "name": "ipython",
    "version": 3
   },
   "file_extension": ".py",
   "mimetype": "text/x-python",
   "name": "python",
   "nbconvert_exporter": "python",
   "pygments_lexer": "ipython3",
   "version": "3.10.4"
  },
  "vscode": {
   "interpreter": {
    "hash": "69afb16850fb080b0d2f0cee190e8848b3ff785e95ea7eabe4fe94a2423f9ba5"
   }
  }
 },
 "nbformat": 4,
 "nbformat_minor": 5
}
