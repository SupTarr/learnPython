{
 "cells": [
  {
   "cell_type": "markdown",
   "metadata": {},
   "source": [
    "# Operators\n",
    "---\n",
    "\n",
    "Operators perform operations on values (via literals or in variables）."
   ]
  },
  {
   "cell_type": "markdown",
   "metadata": {},
   "source": [
    "## Arithmetic Operators\n",
    "**Addition**，**Substraction**，**Multiplication**，**Division**"
   ]
  },
  {
   "cell_type": "code",
   "execution_count": 1,
   "metadata": {},
   "outputs": [
    {
     "name": "stdout",
     "output_type": "stream",
     "text": [
      "25\n",
      "15\n",
      "100\n",
      "4.0\n"
     ]
    }
   ],
   "source": [
    "a=20\n",
    "b=5\n",
    "print(a + b) # Addition\n",
    "print(a - b) # Subtraction\n",
    "print(a * b) # Multiplication\n",
    "print(a / b) # Division"
   ]
  },
  {
   "cell_type": "markdown",
   "metadata": {},
   "source": [
    "## Unary minus\n",
    "\n",
    "A unary minus inverses the *polarity* of the numeric operand."
   ]
  },
  {
   "cell_type": "code",
   "execution_count": 2,
   "metadata": {},
   "outputs": [
    {
     "name": "stdout",
     "output_type": "stream",
     "text": [
      "-2\n",
      "5\n"
     ]
    }
   ],
   "source": [
    "a = 2\n",
    "print(-a)\n",
    "b = -5\n",
    "print(-b)"
   ]
  },
  {
   "cell_type": "markdown",
   "metadata": {},
   "source": [
    "## Modulus\n",
    "A modulus(`a % b` reads as \"a modulo b\") finds the *remainder* resulting from dividing the left operand (`a`）with the right operand (`b`)."
   ]
  },
  {
   "cell_type": "code",
   "execution_count": 3,
   "metadata": {},
   "outputs": [
    {
     "name": "stdout",
     "output_type": "stream",
     "text": [
      "1\n",
      "0\n",
      "1\n"
     ]
    }
   ],
   "source": [
    "x = 25\n",
    "print(x % 4) # 25 = 4 * 6 + 1\n",
    "print(x % 5) # 25 = 5 * 5 + 0\n",
    "print(x % 6) # 25 = 4 * 6 + 1"
   ]
  },
  {
   "cell_type": "markdown",
   "metadata": {},
   "source": [
    "We cannot **divide** or **modulo** with *0*."
   ]
  },
  {
   "cell_type": "code",
   "execution_count": 4,
   "metadata": {},
   "outputs": [
    {
     "ename": "ZeroDivisionError",
     "evalue": "division by zero",
     "output_type": "error",
     "traceback": [
      "\u001b[1;31m---------------------------------------------------------------------------\u001b[0m",
      "\u001b[1;31mZeroDivisionError\u001b[0m                         Traceback (most recent call last)",
      "Cell \u001b[1;32mIn[4], line 1\u001b[0m\n\u001b[1;32m----> 1\u001b[0m \u001b[39mprint\u001b[39m(\u001b[39m2\u001b[39;49m\u001b[39m/\u001b[39;49m\u001b[39m0\u001b[39;49m) \n\u001b[0;32m      2\u001b[0m \u001b[39m# ZeroDivisionError: division by zero\u001b[39;00m\n",
      "\u001b[1;31mZeroDivisionError\u001b[0m: division by zero"
     ]
    }
   ],
   "source": [
    "print(2/0) \n",
    "# ZeroDivisionError: division by zero"
   ]
  },
  {
   "cell_type": "markdown",
   "metadata": {},
   "source": [
    "## Exponentiation\n",
    "An exponentiation (`a ** b`）finds the value of the left operand (`a`）raised to the *power* of the value of the right operand (`b`）"
   ]
  },
  {
   "cell_type": "code",
   "execution_count": 5,
   "metadata": {},
   "outputs": [
    {
     "name": "stdout",
     "output_type": "stream",
     "text": [
      "8\n",
      "625\n",
      "1\n",
      "0.5\n"
     ]
    }
   ],
   "source": [
    "print(2 ** 3)\n",
    "print(5 ** 4)\n",
    "print(99 ** 0)\n",
    "print(2 ** -1)"
   ]
  },
  {
   "cell_type": "markdown",
   "metadata": {},
   "source": [
    "## Floor Division\n",
    "A floor division (`//`) is a *division* that rounds the *result* down to the *nearest integer* (the next smaller integer)."
   ]
  },
  {
   "cell_type": "code",
   "execution_count": 6,
   "metadata": {},
   "outputs": [
    {
     "name": "stdout",
     "output_type": "stream",
     "text": [
      "10.666666666666666\n",
      "10\n",
      "-10.666666666666666\n",
      "-11\n"
     ]
    }
   ],
   "source": [
    "print (32 / 3)\n",
    "print (32 // 3)\n",
    "print (-32 / 3)\n",
    "print(-32 // 3)"
   ]
  },
  {
   "cell_type": "markdown",
   "metadata": {},
   "source": [
    "### Assignment Operators\n",
    "An assignment operator assigns a value to a variable.\n",
    "#### Simple assignment operator\n",
    "We are already familiar with the (simple) assignment operator."
   ]
  },
  {
   "cell_type": "code",
   "execution_count": 7,
   "metadata": {},
   "outputs": [
    {
     "name": "stdout",
     "output_type": "stream",
     "text": [
      "3\n",
      "5\n"
     ]
    }
   ],
   "source": [
    "a = 3\n",
    "print(a)\n",
    "b = 4\n",
    "a = b + 1\n",
    "print(a)"
   ]
  },
  {
   "cell_type": "markdown",
   "metadata": {},
   "source": [
    "#### Compound assignment operator\n",
    "In many circumstances, we might want to *apply* an operator on a variable and, consequently, **re-assign** the resulting value back to the same variable."
   ]
  },
  {
   "cell_type": "code",
   "execution_count": 8,
   "metadata": {},
   "outputs": [
    {
     "name": "stdout",
     "output_type": "stream",
     "text": [
      "2\n",
      "5\n"
     ]
    }
   ],
   "source": [
    "a = 2\n",
    "print(a)\n",
    "a = a + 3\n",
    "print(a)"
   ]
  },
  {
   "cell_type": "code",
   "execution_count": 9,
   "metadata": {},
   "outputs": [
    {
     "name": "stdout",
     "output_type": "stream",
     "text": [
      "2\n",
      "5\n"
     ]
    }
   ],
   "source": [
    "a = 2\n",
    "print(a)\n",
    "a += 3\n",
    "print(a)"
   ]
  },
  {
   "cell_type": "code",
   "execution_count": 10,
   "metadata": {},
   "outputs": [
    {
     "name": "stdout",
     "output_type": "stream",
     "text": [
      "54\n",
      "295\n",
      "11.8\n",
      "4\n",
      "714924299\n",
      "11\n"
     ]
    }
   ],
   "source": [
    "a = b = c = d = e = f = 59\n",
    "a -= 5\n",
    "print(a)\n",
    "b *= 5\n",
    "print(b)\n",
    "c /= 5\n",
    "print(c)\n",
    "d %= 5\n",
    "print(d)\n",
    "e **= 5\n",
    "print(e)\n",
    "f //= 5\n",
    "print(f)"
   ]
  },
  {
   "cell_type": "markdown",
   "metadata": {},
   "source": [
    "## Comparison Operators\n",
    "A comparison operator *compares* two values. it returns `True` or `False`."
   ]
  },
  {
   "cell_type": "code",
   "execution_count": 11,
   "metadata": {},
   "outputs": [
    {
     "name": "stdout",
     "output_type": "stream",
     "text": [
      "True\n",
      "False\n",
      "False\n",
      "False\n",
      "True\n",
      "True\n"
     ]
    }
   ],
   "source": [
    "a = 20\n",
    "print(a == 20)  # is equal to ?\n",
    "print(a != 20)  # is NOT equal to ?\n",
    "print(a > 20)   # is greater than ?\n",
    "print(a < 20)   # is less than ?\n",
    "print(a >= 20)  # is greater than or equal to ?\n",
    "print(a <= 20)  # is less than or equal to ?"
   ]
  },
  {
   "cell_type": "markdown",
   "metadata": {},
   "source": [
    "## Logical Operators\n",
    "A logical operator performs a *boolean* operation (`AND`, `OR`, `NOT`).\n",
    "\n",
    "The logical `and` returns `True` if and only if both operands are `True` ."
   ]
  },
  {
   "cell_type": "code",
   "execution_count": 12,
   "metadata": {},
   "outputs": [
    {
     "name": "stdout",
     "output_type": "stream",
     "text": [
      "True\n",
      "False\n",
      "False\n"
     ]
    }
   ],
   "source": [
    "p = True\n",
    "q = False\n",
    "print(p and p)\n",
    "print(p and q)\n",
    "print(q and q)"
   ]
  },
  {
   "cell_type": "markdown",
   "metadata": {},
   "source": [
    "The logical `or` operator returns `False` if and only if both operands are `False` ."
   ]
  },
  {
   "cell_type": "code",
   "execution_count": 13,
   "metadata": {},
   "outputs": [
    {
     "name": "stdout",
     "output_type": "stream",
     "text": [
      "True\n",
      "True\n",
      "False\n"
     ]
    }
   ],
   "source": [
    "p = True\n",
    "q = False\n",
    "print(p or p)\n",
    "print(p or q)\n",
    "print(q or q)"
   ]
  },
  {
   "cell_type": "markdown",
   "metadata": {},
   "source": [
    "The logical `not` operator *negates* the boolean value of the operand."
   ]
  },
  {
   "cell_type": "code",
   "execution_count": 14,
   "metadata": {},
   "outputs": [
    {
     "name": "stdout",
     "output_type": "stream",
     "text": [
      "False\n",
      "True\n"
     ]
    }
   ],
   "source": [
    "p = True\n",
    "q = False\n",
    "print(not p)\n",
    "print(not q)"
   ]
  },
  {
   "cell_type": "markdown",
   "metadata": {},
   "source": [
    "Usually, *comparison* operators are used together with *logical* operators."
   ]
  },
  {
   "cell_type": "code",
   "execution_count": 15,
   "metadata": {},
   "outputs": [
    {
     "name": "stdout",
     "output_type": "stream",
     "text": [
      "False\n"
     ]
    }
   ],
   "source": [
    "username = input( \"Tell me your name: \")\n",
    "print(username == \"John\" or username == \"Jim\" )"
   ]
  }
 ],
 "metadata": {
  "kernelspec": {
   "display_name": "Python 3.10.4 64-bit",
   "language": "python",
   "name": "python3"
  },
  "language_info": {
   "codemirror_mode": {
    "name": "ipython",
    "version": 3
   },
   "file_extension": ".py",
   "mimetype": "text/x-python",
   "name": "python",
   "nbconvert_exporter": "python",
   "pygments_lexer": "ipython3",
   "version": "3.10.4"
  },
  "orig_nbformat": 4,
  "vscode": {
   "interpreter": {
    "hash": "69afb16850fb080b0d2f0cee190e8848b3ff785e95ea7eabe4fe94a2423f9ba5"
   }
  }
 },
 "nbformat": 4,
 "nbformat_minor": 2
}
